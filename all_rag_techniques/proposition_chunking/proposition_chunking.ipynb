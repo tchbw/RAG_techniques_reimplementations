{
 "cells": [
  {
   "cell_type": "markdown",
   "metadata": {},
   "source": [
    "The idea here is to chunk the document and create \"propositions\" for each chunk, which are self-contained statements about the chunk.\n",
    "\n",
    "We then perform a quality check on the propositions and make sure they pass a quality bar before embedding."
   ]
  },
  {
   "cell_type": "code",
   "execution_count": null,
   "metadata": {},
   "outputs": [],
   "source": []
  },
  {
   "cell_type": "code",
   "execution_count": 1,
   "metadata": {},
   "outputs": [],
   "source": [
    "import os\n",
    "from dotenv import load_dotenv\n",
    "import openai\n",
    "\n",
    "load_dotenv()\n",
    "openai.api_key = os.getenv(\"OPENAI_API_KEY\")"
   ]
  },
  {
   "cell_type": "code",
   "execution_count": 2,
   "metadata": {},
   "outputs": [],
   "source": [
    "sample_content = \"\"\"Paul Graham's essay \"Founder Mode,\" published in September 2024, challenges conventional wisdom about scaling startups, arguing that founders should maintain their unique management style rather than adopting traditional corporate practices as their companies grow.\n",
    "Conventional Wisdom vs. Founder Mode\n",
    "The essay argues that the traditional advice given to growing companies—hiring good people and giving them autonomy—often fails when applied to startups.\n",
    "This approach, suitable for established companies, can be detrimental to startups where the founder's vision and direct involvement are crucial. \"Founder Mode\" is presented as an emerging paradigm that is not yet fully understood or documented, contrasting with the conventional \"manager mode\" often advised by business schools and professional managers.\n",
    "Unique Founder Abilities\n",
    "Founders possess unique insights and abilities that professional managers do not, primarily because they have a deep understanding of their company's vision and culture.\n",
    "Graham suggests that founders should leverage these strengths rather than conform to traditional managerial practices. \"Founder Mode\" is an emerging paradigm that is not yet fully understood or documented, with Graham hoping that over time, it will become as well-understood as the traditional manager mode, allowing founders to maintain their unique approach even as their companies scale.\n",
    "Challenges of Scaling Startups\n",
    "As startups grow, there is a common belief that they must transition to a more structured managerial approach. However, many founders have found this transition problematic, as it often leads to a loss of the innovative and agile spirit that drove the startup's initial success.\n",
    "Brian Chesky, co-founder of Airbnb, shared his experience of being advised to run the company in a traditional managerial style, which led to poor outcomes. He eventually found success by adopting a different approach, influenced by how Steve Jobs managed Apple.\n",
    "Steve Jobs' Management Style\n",
    "Steve Jobs' management approach at Apple served as inspiration for Brian Chesky's \"Founder Mode\" at Airbnb. One notable practice was Jobs' annual retreat for the 100 most important people at Apple, regardless of their position on the organizational chart\n",
    ". This unconventional method allowed Jobs to maintain a startup-like environment even as Apple grew, fostering innovation and direct communication across hierarchical levels. Such practices emphasize the importance of founders staying deeply involved in their companies' operations, challenging the traditional notion of delegating responsibilities to professional managers as companies scale.\n",
    "\"\"\""
   ]
  },
  {
   "cell_type": "markdown",
   "metadata": {},
   "source": [
    "### Chunking"
   ]
  },
  {
   "cell_type": "code",
   "execution_count": 8,
   "metadata": {},
   "outputs": [
    {
     "name": "stdout",
     "output_type": "stream",
     "text": [
      "3\n"
     ]
    }
   ],
   "source": [
    "from llama_index.core import Document, Settings\n",
    "from llama_index.embeddings.openai import OpenAIEmbedding\n",
    "from langchain.text_splitter import RecursiveCharacterTextSplitter\n",
    "from llama_index.core.node_parser import LangchainNodeParser\n",
    "\n",
    "Settings.embed_model = OpenAIEmbedding(model=\"text-embedding-3-small\")\n",
    "\n",
    "docs_list = [Document(text=sample_content, metadata={\"Title\": \"Paul Graham's Founder Mode Essay\", \"Source\": \"https://www.perplexity.ai/page/paul-graham-s-founder-mode-ess-t9TCyvkqRiyMQJWsHr0fnQ\"})]\n",
    "\n",
    "parser = LangchainNodeParser(RecursiveCharacterTextSplitter.from_tiktoken_encoder(chunk_size=200, chunk_overlap=50))\n",
    "nodes = parser.get_nodes_from_documents(docs_list)\n",
    "print(len(nodes))"
   ]
  },
  {
   "cell_type": "markdown",
   "metadata": {},
   "source": [
    "`RecursiveCharacterTextSplitter` attempts to split chunks at certain boundaries, like `\\n\\n` and then splits further if the chunk sizes are too large by splitting on other boundaries.\n",
    "\n",
    "The `from_tiktoken_encoder` method counts chunk sizes in terms of tokens. So the `chunk_size` provided will be in units of tokens, not characters.\n",
    "\n",
    "`LangchainNodeParser` is an adapter for using Langchain text parsers with LlamaIndex."
   ]
  },
  {
   "cell_type": "code",
   "execution_count": 9,
   "metadata": {},
   "outputs": [
    {
     "name": "stdout",
     "output_type": "stream",
     "text": [
      "{'Title': \"Paul Graham's Founder Mode Essay\", 'Source': 'https://www.perplexity.ai/page/paul-graham-s-founder-mode-ess-t9TCyvkqRiyMQJWsHr0fnQ', 'chunk_id': 1}\n"
     ]
    }
   ],
   "source": [
    "for i, doc in enumerate(nodes):\n",
    "    doc.metadata[\"chunk_id\"] = i+1\n",
    "\n",
    "print(nodes[0].metadata)"
   ]
  },
  {
   "cell_type": "code",
   "execution_count": 11,
   "metadata": {},
   "outputs": [],
   "source": [
    "from pydantic import BaseModel, Field\n",
    "from typing import List\n",
    "\n",
    "class GeneratePropositions(BaseModel):\n",
    "\n",
    "    propositions: List[str] = Field(\n",
    "        description=\"List of propositions (factual, self-contained, and concise information)\"\n",
    "    )"
   ]
  },
  {
   "cell_type": "code",
   "execution_count": 34,
   "metadata": {},
   "outputs": [
    {
     "name": "stdout",
     "output_type": "stream",
     "text": [
      "[ChatMessage(role=<MessageRole.USER: 'user'>, content='In 1969, Neil Armstrong became the first person to walk on the Moon during the Apollo 11 mission.', additional_kwargs={}), ChatMessage(role=<MessageRole.ASSISTANT: 'assistant'>, content=\"['Neil Armstrong was an astronaut.', 'Neil Armstrong walked on the Moon in 1969.', 'Neil Armstrong was the first person to walk on the Moon.', 'Neil Armstrong walked on the Moon during the Apollo 11 mission.', 'The Apollo 11 mission occurred in 1969.']\", additional_kwargs={})]\n",
      "[ChatMessage(role=<MessageRole.USER: 'user'>, content='In 1969, Neil Armstrong became the first person to walk on the Moon during the Apollo 11 mission.', additional_kwargs={}), ChatMessage(role=<MessageRole.ASSISTANT: 'assistant'>, content=\"['Neil Armstrong was an astronaut.', 'Neil Armstrong walked on the Moon in 1969.', 'Neil Armstrong was the first person to walk on the Moon.', 'Neil Armstrong walked on the Moon during the Apollo 11 mission.', 'The Apollo 11 mission occurred in 1969.']\", additional_kwargs={})]\n"
     ]
    }
   ],
   "source": [
    "\n",
    "from llama_index.llms.openai import OpenAI\n",
    "from llama_index.core.llms import ChatMessage, MessageRole\n",
    "from pandas.core.common import flatten\n",
    "from llama_index.core import ChatPromptTemplate\n",
    "\n",
    "structured_llm = OpenAI(model=\"gpt-4o-mini\").as_structured_llm(output_cls=GeneratePropositions)\n",
    "\n",
    "proposition_examples = [\n",
    "    {\"document\": \n",
    "        \"In 1969, Neil Armstrong became the first person to walk on the Moon during the Apollo 11 mission.\", \n",
    "     \"propositions\": \n",
    "        \"['Neil Armstrong was an astronaut.', 'Neil Armstrong walked on the Moon in 1969.', 'Neil Armstrong was the first person to walk on the Moon.', 'Neil Armstrong walked on the Moon during the Apollo 11 mission.', 'The Apollo 11 mission occurred in 1969.']\"\n",
    "    },\n",
    "]\n",
    "proposition_prompts = [[ChatMessage(role=MessageRole.USER, content=example[\"document\"]), ChatMessage(role=MessageRole.ASSISTANT, content=example[\"propositions\"])] for example in proposition_examples]\n",
    "flattened_proposition_prompts = [x for sublist in proposition_prompts for x in sublist]\n",
    "print([*flattened_proposition_prompts])\n",
    "system = \"\"\"Please break down the following text into simple, self-contained propositions. Ensure that each proposition meets the following criteria:\n",
    "\n",
    "    1. Express a Single Fact: Each proposition should state one specific fact or claim.\n",
    "    2. Be Understandable Without Context: The proposition should be self-contained, meaning it can be understood without needing additional context.\n",
    "    3. Use Full Names, Not Pronouns: Avoid pronouns or ambiguous references; use full entity names.\n",
    "    4. Include Relevant Dates/Qualifiers: If applicable, include necessary dates, times, and qualifiers to make the fact precise.\n",
    "    5. Contain One Subject-Predicate Relationship: Focus on a single subject and its corresponding action or attribute, without conjunctions or multiple clauses.\"\"\"\n",
    "prompt = ChatPromptTemplate([\n",
    "    ChatMessage(role=MessageRole.SYSTEM, content=system),\n",
    "    *flattened_proposition_prompts,\n",
    "    ChatMessage(role=MessageRole.USER, content=\"{document}\")\n",
    "])\n",
    "\n",
    "print(*[flattened_proposition_prompts])"
   ]
  },
  {
   "cell_type": "markdown",
   "metadata": {},
   "source": [
    "If I were to use ChatPromptTemplate.from_messages, I would provide a list of tuples instead of `ChatMessage`s"
   ]
  },
  {
   "cell_type": "code",
   "execution_count": 36,
   "metadata": {},
   "outputs": [
    {
     "name": "stdout",
     "output_type": "stream",
     "text": [
      "[Document(id_='4c2e93fe-e3eb-4ddf-b863-05ea1c27146b', embedding=None, metadata={'Title': \"Paul Graham's Founder Mode Essay\", 'Source': 'https://www.perplexity.ai/page/paul-graham-s-founder-mode-ess-t9TCyvkqRiyMQJWsHr0fnQ', 'chunk_id': 1}, excluded_embed_metadata_keys=[], excluded_llm_metadata_keys=[], relationships={}, text='Paul Graham published the essay \"Founder Mode\" in September 2024.', mimetype='text/plain', start_char_idx=None, end_char_idx=None, text_template='{metadata_str}\\n\\n{content}', metadata_template='{key}: {value}', metadata_seperator='\\n'), Document(id_='54179c96-fbda-403d-9ea7-eec1ae773150', embedding=None, metadata={'Title': \"Paul Graham's Founder Mode Essay\", 'Source': 'https://www.perplexity.ai/page/paul-graham-s-founder-mode-ess-t9TCyvkqRiyMQJWsHr0fnQ', 'chunk_id': 1}, excluded_embed_metadata_keys=[], excluded_llm_metadata_keys=[], relationships={}, text='Paul Graham\\'s essay \"Founder Mode\" challenges conventional wisdom about scaling startups.', mimetype='text/plain', start_char_idx=None, end_char_idx=None, text_template='{metadata_str}\\n\\n{content}', metadata_template='{key}: {value}', metadata_seperator='\\n'), Document(id_='e821f692-0716-404d-ba68-34a80ff697c8', embedding=None, metadata={'Title': \"Paul Graham's Founder Mode Essay\", 'Source': 'https://www.perplexity.ai/page/paul-graham-s-founder-mode-ess-t9TCyvkqRiyMQJWsHr0fnQ', 'chunk_id': 1}, excluded_embed_metadata_keys=[], excluded_llm_metadata_keys=[], relationships={}, text='The essay argues that founders should maintain their unique management style.', mimetype='text/plain', start_char_idx=None, end_char_idx=None, text_template='{metadata_str}\\n\\n{content}', metadata_template='{key}: {value}', metadata_seperator='\\n'), Document(id_='d998c3d0-1e5f-4769-88c9-845677900637', embedding=None, metadata={'Title': \"Paul Graham's Founder Mode Essay\", 'Source': 'https://www.perplexity.ai/page/paul-graham-s-founder-mode-ess-t9TCyvkqRiyMQJWsHr0fnQ', 'chunk_id': 1}, excluded_embed_metadata_keys=[], excluded_llm_metadata_keys=[], relationships={}, text='The essay argues that traditional advice for growing companies often fails when applied to startups.', mimetype='text/plain', start_char_idx=None, end_char_idx=None, text_template='{metadata_str}\\n\\n{content}', metadata_template='{key}: {value}', metadata_seperator='\\n'), Document(id_='51a5c216-2f3f-46e9-b0e8-4d48300bae38', embedding=None, metadata={'Title': \"Paul Graham's Founder Mode Essay\", 'Source': 'https://www.perplexity.ai/page/paul-graham-s-founder-mode-ess-t9TCyvkqRiyMQJWsHr0fnQ', 'chunk_id': 1}, excluded_embed_metadata_keys=[], excluded_llm_metadata_keys=[], relationships={}, text='The traditional advice includes hiring good people and giving them autonomy.', mimetype='text/plain', start_char_idx=None, end_char_idx=None, text_template='{metadata_str}\\n\\n{content}', metadata_template='{key}: {value}', metadata_seperator='\\n'), Document(id_='afd1a0a5-c017-417a-8482-b481bc6a39c6', embedding=None, metadata={'Title': \"Paul Graham's Founder Mode Essay\", 'Source': 'https://www.perplexity.ai/page/paul-graham-s-founder-mode-ess-t9TCyvkqRiyMQJWsHr0fnQ', 'chunk_id': 1}, excluded_embed_metadata_keys=[], excluded_llm_metadata_keys=[], relationships={}, text='The traditional approach is suitable for established companies.', mimetype='text/plain', start_char_idx=None, end_char_idx=None, text_template='{metadata_str}\\n\\n{content}', metadata_template='{key}: {value}', metadata_seperator='\\n'), Document(id_='dda743de-6879-4f3a-a927-857c8ec6f849', embedding=None, metadata={'Title': \"Paul Graham's Founder Mode Essay\", 'Source': 'https://www.perplexity.ai/page/paul-graham-s-founder-mode-ess-t9TCyvkqRiyMQJWsHr0fnQ', 'chunk_id': 1}, excluded_embed_metadata_keys=[], excluded_llm_metadata_keys=[], relationships={}, text='The traditional approach can be detrimental to startups.', mimetype='text/plain', start_char_idx=None, end_char_idx=None, text_template='{metadata_str}\\n\\n{content}', metadata_template='{key}: {value}', metadata_seperator='\\n'), Document(id_='8585003f-8113-43ce-a9e7-846288d218f9', embedding=None, metadata={'Title': \"Paul Graham's Founder Mode Essay\", 'Source': 'https://www.perplexity.ai/page/paul-graham-s-founder-mode-ess-t9TCyvkqRiyMQJWsHr0fnQ', 'chunk_id': 1}, excluded_embed_metadata_keys=[], excluded_llm_metadata_keys=[], relationships={}, text=\"The founder's vision and direct involvement are crucial for startups.\", mimetype='text/plain', start_char_idx=None, end_char_idx=None, text_template='{metadata_str}\\n\\n{content}', metadata_template='{key}: {value}', metadata_seperator='\\n'), Document(id_='8d13ade4-9df7-470b-901a-2ef7dacf50aa', embedding=None, metadata={'Title': \"Paul Graham's Founder Mode Essay\", 'Source': 'https://www.perplexity.ai/page/paul-graham-s-founder-mode-ess-t9TCyvkqRiyMQJWsHr0fnQ', 'chunk_id': 1}, excluded_embed_metadata_keys=[], excluded_llm_metadata_keys=[], relationships={}, text='\"Founder Mode\" is an emerging paradigm that is not yet fully understood or documented.', mimetype='text/plain', start_char_idx=None, end_char_idx=None, text_template='{metadata_str}\\n\\n{content}', metadata_template='{key}: {value}', metadata_seperator='\\n'), Document(id_='d0eec157-502c-4945-ad87-235fa7884153', embedding=None, metadata={'Title': \"Paul Graham's Founder Mode Essay\", 'Source': 'https://www.perplexity.ai/page/paul-graham-s-founder-mode-ess-t9TCyvkqRiyMQJWsHr0fnQ', 'chunk_id': 1}, excluded_embed_metadata_keys=[], excluded_llm_metadata_keys=[], relationships={}, text='\"Founder Mode\" contrasts with the conventional \"manager mode\" advised by business schools.', mimetype='text/plain', start_char_idx=None, end_char_idx=None, text_template='{metadata_str}\\n\\n{content}', metadata_template='{key}: {value}', metadata_seperator='\\n'), Document(id_='e12b0a5c-7ff4-4ff2-b666-5ace160de589', embedding=None, metadata={'Title': \"Paul Graham's Founder Mode Essay\", 'Source': 'https://www.perplexity.ai/page/paul-graham-s-founder-mode-ess-t9TCyvkqRiyMQJWsHr0fnQ', 'chunk_id': 1}, excluded_embed_metadata_keys=[], excluded_llm_metadata_keys=[], relationships={}, text='Founders possess unique insights and abilities that professional managers do not.', mimetype='text/plain', start_char_idx=None, end_char_idx=None, text_template='{metadata_str}\\n\\n{content}', metadata_template='{key}: {value}', metadata_seperator='\\n'), Document(id_='dd25c196-9350-4311-a6ec-01ce4a164283', embedding=None, metadata={'Title': \"Paul Graham's Founder Mode Essay\", 'Source': 'https://www.perplexity.ai/page/paul-graham-s-founder-mode-ess-t9TCyvkqRiyMQJWsHr0fnQ', 'chunk_id': 1}, excluded_embed_metadata_keys=[], excluded_llm_metadata_keys=[], relationships={}, text=\"Founders have a deep understanding of their company's vision and culture.\", mimetype='text/plain', start_char_idx=None, end_char_idx=None, text_template='{metadata_str}\\n\\n{content}', metadata_template='{key}: {value}', metadata_seperator='\\n'), Document(id_='f0c12ebe-cd29-4dd9-b08b-a4ee625f134c', embedding=None, metadata={'Title': \"Paul Graham's Founder Mode Essay\", 'Source': 'https://www.perplexity.ai/page/paul-graham-s-founder-mode-ess-t9TCyvkqRiyMQJWsHr0fnQ', 'chunk_id': 2}, excluded_embed_metadata_keys=[], excluded_llm_metadata_keys=[], relationships={}, text='Founders possess unique insights and abilities.', mimetype='text/plain', start_char_idx=None, end_char_idx=None, text_template='{metadata_str}\\n\\n{content}', metadata_template='{key}: {value}', metadata_seperator='\\n'), Document(id_='a3ac2541-6dac-4c19-bfe0-6e28bc16da73', embedding=None, metadata={'Title': \"Paul Graham's Founder Mode Essay\", 'Source': 'https://www.perplexity.ai/page/paul-graham-s-founder-mode-ess-t9TCyvkqRiyMQJWsHr0fnQ', 'chunk_id': 2}, excluded_embed_metadata_keys=[], excluded_llm_metadata_keys=[], relationships={}, text='Professional managers do not possess the same insights and abilities as founders.', mimetype='text/plain', start_char_idx=None, end_char_idx=None, text_template='{metadata_str}\\n\\n{content}', metadata_template='{key}: {value}', metadata_seperator='\\n'), Document(id_='c9590a18-dbd6-4f0c-9811-bdda02eb6c55', embedding=None, metadata={'Title': \"Paul Graham's Founder Mode Essay\", 'Source': 'https://www.perplexity.ai/page/paul-graham-s-founder-mode-ess-t9TCyvkqRiyMQJWsHr0fnQ', 'chunk_id': 2}, excluded_embed_metadata_keys=[], excluded_llm_metadata_keys=[], relationships={}, text=\"Founders have a deep understanding of their company's vision and culture.\", mimetype='text/plain', start_char_idx=None, end_char_idx=None, text_template='{metadata_str}\\n\\n{content}', metadata_template='{key}: {value}', metadata_seperator='\\n'), Document(id_='71388e97-6ecb-4abe-8dbd-ff486e2a1c5f', embedding=None, metadata={'Title': \"Paul Graham's Founder Mode Essay\", 'Source': 'https://www.perplexity.ai/page/paul-graham-s-founder-mode-ess-t9TCyvkqRiyMQJWsHr0fnQ', 'chunk_id': 2}, excluded_embed_metadata_keys=[], excluded_llm_metadata_keys=[], relationships={}, text='Graham suggests that founders should leverage their unique strengths.', mimetype='text/plain', start_char_idx=None, end_char_idx=None, text_template='{metadata_str}\\n\\n{content}', metadata_template='{key}: {value}', metadata_seperator='\\n'), Document(id_='44464d5d-1b5e-420b-9a57-e8b6c45bd563', embedding=None, metadata={'Title': \"Paul Graham's Founder Mode Essay\", 'Source': 'https://www.perplexity.ai/page/paul-graham-s-founder-mode-ess-t9TCyvkqRiyMQJWsHr0fnQ', 'chunk_id': 2}, excluded_embed_metadata_keys=[], excluded_llm_metadata_keys=[], relationships={}, text='Graham advises against conforming to traditional managerial practices.', mimetype='text/plain', start_char_idx=None, end_char_idx=None, text_template='{metadata_str}\\n\\n{content}', metadata_template='{key}: {value}', metadata_seperator='\\n'), Document(id_='1100e416-8699-407d-b3bf-e793573ae265', embedding=None, metadata={'Title': \"Paul Graham's Founder Mode Essay\", 'Source': 'https://www.perplexity.ai/page/paul-graham-s-founder-mode-ess-t9TCyvkqRiyMQJWsHr0fnQ', 'chunk_id': 2}, excluded_embed_metadata_keys=[], excluded_llm_metadata_keys=[], relationships={}, text='\"Founder Mode\" is an emerging paradigm.', mimetype='text/plain', start_char_idx=None, end_char_idx=None, text_template='{metadata_str}\\n\\n{content}', metadata_template='{key}: {value}', metadata_seperator='\\n'), Document(id_='1fb1355b-8add-43f2-8950-533fc749ae87', embedding=None, metadata={'Title': \"Paul Graham's Founder Mode Essay\", 'Source': 'https://www.perplexity.ai/page/paul-graham-s-founder-mode-ess-t9TCyvkqRiyMQJWsHr0fnQ', 'chunk_id': 2}, excluded_embed_metadata_keys=[], excluded_llm_metadata_keys=[], relationships={}, text='\"Founder Mode\" is not yet fully understood or documented.', mimetype='text/plain', start_char_idx=None, end_char_idx=None, text_template='{metadata_str}\\n\\n{content}', metadata_template='{key}: {value}', metadata_seperator='\\n'), Document(id_='33d081a1-d4c6-4d01-a3ff-ce360be70379', embedding=None, metadata={'Title': \"Paul Graham's Founder Mode Essay\", 'Source': 'https://www.perplexity.ai/page/paul-graham-s-founder-mode-ess-t9TCyvkqRiyMQJWsHr0fnQ', 'chunk_id': 2}, excluded_embed_metadata_keys=[], excluded_llm_metadata_keys=[], relationships={}, text='Graham hopes that \"Founder Mode\" will become well-understood over time.', mimetype='text/plain', start_char_idx=None, end_char_idx=None, text_template='{metadata_str}\\n\\n{content}', metadata_template='{key}: {value}', metadata_seperator='\\n'), Document(id_='0e163a6d-7a03-4185-9854-01ae0acfd412', embedding=None, metadata={'Title': \"Paul Graham's Founder Mode Essay\", 'Source': 'https://www.perplexity.ai/page/paul-graham-s-founder-mode-ess-t9TCyvkqRiyMQJWsHr0fnQ', 'chunk_id': 2}, excluded_embed_metadata_keys=[], excluded_llm_metadata_keys=[], relationships={}, text='Traditional manager mode is currently better understood than \"Founder Mode\".', mimetype='text/plain', start_char_idx=None, end_char_idx=None, text_template='{metadata_str}\\n\\n{content}', metadata_template='{key}: {value}', metadata_seperator='\\n'), Document(id_='daa3e92b-7ec1-45a4-89e7-e5464167eb72', embedding=None, metadata={'Title': \"Paul Graham's Founder Mode Essay\", 'Source': 'https://www.perplexity.ai/page/paul-graham-s-founder-mode-ess-t9TCyvkqRiyMQJWsHr0fnQ', 'chunk_id': 2}, excluded_embed_metadata_keys=[], excluded_llm_metadata_keys=[], relationships={}, text='Founders can maintain their unique approach as their companies scale.', mimetype='text/plain', start_char_idx=None, end_char_idx=None, text_template='{metadata_str}\\n\\n{content}', metadata_template='{key}: {value}', metadata_seperator='\\n'), Document(id_='69a321d4-df9b-4bfc-aaac-6c4760af71c9', embedding=None, metadata={'Title': \"Paul Graham's Founder Mode Essay\", 'Source': 'https://www.perplexity.ai/page/paul-graham-s-founder-mode-ess-t9TCyvkqRiyMQJWsHr0fnQ', 'chunk_id': 2}, excluded_embed_metadata_keys=[], excluded_llm_metadata_keys=[], relationships={}, text='Startups commonly believe they must transition to a structured managerial approach as they grow.', mimetype='text/plain', start_char_idx=None, end_char_idx=None, text_template='{metadata_str}\\n\\n{content}', metadata_template='{key}: {value}', metadata_seperator='\\n'), Document(id_='54c3cdce-6fe7-4606-88f4-c9c5eb590ad7', embedding=None, metadata={'Title': \"Paul Graham's Founder Mode Essay\", 'Source': 'https://www.perplexity.ai/page/paul-graham-s-founder-mode-ess-t9TCyvkqRiyMQJWsHr0fnQ', 'chunk_id': 2}, excluded_embed_metadata_keys=[], excluded_llm_metadata_keys=[], relationships={}, text='Many founders find the transition to a structured managerial approach problematic.', mimetype='text/plain', start_char_idx=None, end_char_idx=None, text_template='{metadata_str}\\n\\n{content}', metadata_template='{key}: {value}', metadata_seperator='\\n'), Document(id_='066f7eda-802e-4a68-97f7-aa775bbaf4bb', embedding=None, metadata={'Title': \"Paul Graham's Founder Mode Essay\", 'Source': 'https://www.perplexity.ai/page/paul-graham-s-founder-mode-ess-t9TCyvkqRiyMQJWsHr0fnQ', 'chunk_id': 2}, excluded_embed_metadata_keys=[], excluded_llm_metadata_keys=[], relationships={}, text='The transition to a structured managerial approach can lead to a loss of innovative spirit.', mimetype='text/plain', start_char_idx=None, end_char_idx=None, text_template='{metadata_str}\\n\\n{content}', metadata_template='{key}: {value}', metadata_seperator='\\n'), Document(id_='98e9627a-aef7-4ec2-94f5-d52392b4f6f7', embedding=None, metadata={'Title': \"Paul Graham's Founder Mode Essay\", 'Source': 'https://www.perplexity.ai/page/paul-graham-s-founder-mode-ess-t9TCyvkqRiyMQJWsHr0fnQ', 'chunk_id': 2}, excluded_embed_metadata_keys=[], excluded_llm_metadata_keys=[], relationships={}, text=\"The innovative spirit drove the startup's initial success.\", mimetype='text/plain', start_char_idx=None, end_char_idx=None, text_template='{metadata_str}\\n\\n{content}', metadata_template='{key}: {value}', metadata_seperator='\\n'), Document(id_='ebce5219-94c7-4c48-a912-305c2f52ec3d', embedding=None, metadata={'Title': \"Paul Graham's Founder Mode Essay\", 'Source': 'https://www.perplexity.ai/page/paul-graham-s-founder-mode-ess-t9TCyvkqRiyMQJWsHr0fnQ', 'chunk_id': 3}, excluded_embed_metadata_keys=[], excluded_llm_metadata_keys=[], relationships={}, text='Brian Chesky is the co-founder of Airbnb.', mimetype='text/plain', start_char_idx=None, end_char_idx=None, text_template='{metadata_str}\\n\\n{content}', metadata_template='{key}: {value}', metadata_seperator='\\n'), Document(id_='c339a9e4-1e76-4edb-8b1f-ad06313aa43a', embedding=None, metadata={'Title': \"Paul Graham's Founder Mode Essay\", 'Source': 'https://www.perplexity.ai/page/paul-graham-s-founder-mode-ess-t9TCyvkqRiyMQJWsHr0fnQ', 'chunk_id': 3}, excluded_embed_metadata_keys=[], excluded_llm_metadata_keys=[], relationships={}, text='Brian Chesky was advised to run Airbnb in a traditional managerial style.', mimetype='text/plain', start_char_idx=None, end_char_idx=None, text_template='{metadata_str}\\n\\n{content}', metadata_template='{key}: {value}', metadata_seperator='\\n'), Document(id_='d35a50a4-f361-49cc-a07c-9d74959cd9fa', embedding=None, metadata={'Title': \"Paul Graham's Founder Mode Essay\", 'Source': 'https://www.perplexity.ai/page/paul-graham-s-founder-mode-ess-t9TCyvkqRiyMQJWsHr0fnQ', 'chunk_id': 3}, excluded_embed_metadata_keys=[], excluded_llm_metadata_keys=[], relationships={}, text='The traditional managerial style led to poor outcomes for Airbnb.', mimetype='text/plain', start_char_idx=None, end_char_idx=None, text_template='{metadata_str}\\n\\n{content}', metadata_template='{key}: {value}', metadata_seperator='\\n'), Document(id_='db1befd5-920e-4815-b8ef-adce1ab638a8', embedding=None, metadata={'Title': \"Paul Graham's Founder Mode Essay\", 'Source': 'https://www.perplexity.ai/page/paul-graham-s-founder-mode-ess-t9TCyvkqRiyMQJWsHr0fnQ', 'chunk_id': 3}, excluded_embed_metadata_keys=[], excluded_llm_metadata_keys=[], relationships={}, text='Brian Chesky found success by adopting a different approach.', mimetype='text/plain', start_char_idx=None, end_char_idx=None, text_template='{metadata_str}\\n\\n{content}', metadata_template='{key}: {value}', metadata_seperator='\\n'), Document(id_='953f856f-c280-40cc-bbea-c33d1566be22', embedding=None, metadata={'Title': \"Paul Graham's Founder Mode Essay\", 'Source': 'https://www.perplexity.ai/page/paul-graham-s-founder-mode-ess-t9TCyvkqRiyMQJWsHr0fnQ', 'chunk_id': 3}, excluded_embed_metadata_keys=[], excluded_llm_metadata_keys=[], relationships={}, text=\"Brian Chesky's approach was influenced by Steve Jobs' management style at Apple.\", mimetype='text/plain', start_char_idx=None, end_char_idx=None, text_template='{metadata_str}\\n\\n{content}', metadata_template='{key}: {value}', metadata_seperator='\\n'), Document(id_='c2308c59-81b3-4b92-a124-9b4b84b89c0b', embedding=None, metadata={'Title': \"Paul Graham's Founder Mode Essay\", 'Source': 'https://www.perplexity.ai/page/paul-graham-s-founder-mode-ess-t9TCyvkqRiyMQJWsHr0fnQ', 'chunk_id': 3}, excluded_embed_metadata_keys=[], excluded_llm_metadata_keys=[], relationships={}, text='Steve Jobs managed Apple in an unconventional way.', mimetype='text/plain', start_char_idx=None, end_char_idx=None, text_template='{metadata_str}\\n\\n{content}', metadata_template='{key}: {value}', metadata_seperator='\\n'), Document(id_='465a7492-ce60-4123-9fef-50d7f4afa4c0', embedding=None, metadata={'Title': \"Paul Graham's Founder Mode Essay\", 'Source': 'https://www.perplexity.ai/page/paul-graham-s-founder-mode-ess-t9TCyvkqRiyMQJWsHr0fnQ', 'chunk_id': 3}, excluded_embed_metadata_keys=[], excluded_llm_metadata_keys=[], relationships={}, text='Steve Jobs held an annual retreat for the 100 most important people at Apple.', mimetype='text/plain', start_char_idx=None, end_char_idx=None, text_template='{metadata_str}\\n\\n{content}', metadata_template='{key}: {value}', metadata_seperator='\\n'), Document(id_='a44a020b-fff6-43a6-b87b-e999ccfb8072', embedding=None, metadata={'Title': \"Paul Graham's Founder Mode Essay\", 'Source': 'https://www.perplexity.ai/page/paul-graham-s-founder-mode-ess-t9TCyvkqRiyMQJWsHr0fnQ', 'chunk_id': 3}, excluded_embed_metadata_keys=[], excluded_llm_metadata_keys=[], relationships={}, text=\"Steve Jobs' annual retreat included people regardless of their position on the organizational chart.\", mimetype='text/plain', start_char_idx=None, end_char_idx=None, text_template='{metadata_str}\\n\\n{content}', metadata_template='{key}: {value}', metadata_seperator='\\n'), Document(id_='17bf271f-8243-49cf-bf6e-a292164917e8', embedding=None, metadata={'Title': \"Paul Graham's Founder Mode Essay\", 'Source': 'https://www.perplexity.ai/page/paul-graham-s-founder-mode-ess-t9TCyvkqRiyMQJWsHr0fnQ', 'chunk_id': 3}, excluded_embed_metadata_keys=[], excluded_llm_metadata_keys=[], relationships={}, text=\"Steve Jobs' management style fostered innovation at Apple.\", mimetype='text/plain', start_char_idx=None, end_char_idx=None, text_template='{metadata_str}\\n\\n{content}', metadata_template='{key}: {value}', metadata_seperator='\\n'), Document(id_='38514ba4-c083-4bc3-8829-60b233cb5741', embedding=None, metadata={'Title': \"Paul Graham's Founder Mode Essay\", 'Source': 'https://www.perplexity.ai/page/paul-graham-s-founder-mode-ess-t9TCyvkqRiyMQJWsHr0fnQ', 'chunk_id': 3}, excluded_embed_metadata_keys=[], excluded_llm_metadata_keys=[], relationships={}, text='Steve Jobs maintained a startup-like environment at Apple as it grew.', mimetype='text/plain', start_char_idx=None, end_char_idx=None, text_template='{metadata_str}\\n\\n{content}', metadata_template='{key}: {value}', metadata_seperator='\\n'), Document(id_='263727a4-a931-42ca-9a76-1a2c384d5d7c', embedding=None, metadata={'Title': \"Paul Graham's Founder Mode Essay\", 'Source': 'https://www.perplexity.ai/page/paul-graham-s-founder-mode-ess-t9TCyvkqRiyMQJWsHr0fnQ', 'chunk_id': 3}, excluded_embed_metadata_keys=[], excluded_llm_metadata_keys=[], relationships={}, text='Steve Jobs emphasized direct communication across hierarchical levels at Apple.', mimetype='text/plain', start_char_idx=None, end_char_idx=None, text_template='{metadata_str}\\n\\n{content}', metadata_template='{key}: {value}', metadata_seperator='\\n'), Document(id_='c79901e6-6e32-4dff-943f-4470a0e80859', embedding=None, metadata={'Title': \"Paul Graham's Founder Mode Essay\", 'Source': 'https://www.perplexity.ai/page/paul-graham-s-founder-mode-ess-t9TCyvkqRiyMQJWsHr0fnQ', 'chunk_id': 3}, excluded_embed_metadata_keys=[], excluded_llm_metadata_keys=[], relationships={}, text=\"Founders should stay deeply involved in their companies' operations.\", mimetype='text/plain', start_char_idx=None, end_char_idx=None, text_template='{metadata_str}\\n\\n{content}', metadata_template='{key}: {value}', metadata_seperator='\\n'), Document(id_='04997a1a-6d87-42c7-93b8-bd02db6c15d3', embedding=None, metadata={'Title': \"Paul Graham's Founder Mode Essay\", 'Source': 'https://www.perplexity.ai/page/paul-graham-s-founder-mode-ess-t9TCyvkqRiyMQJWsHr0fnQ', 'chunk_id': 3}, excluded_embed_metadata_keys=[], excluded_llm_metadata_keys=[], relationships={}, text='The traditional notion suggests delegating responsibilities to professional managers as companies scale.', mimetype='text/plain', start_char_idx=None, end_char_idx=None, text_template='{metadata_str}\\n\\n{content}', metadata_template='{key}: {value}', metadata_seperator='\\n')]\n"
     ]
    }
   ],
   "source": [
    "propositions = []\n",
    "\n",
    "for i, node in enumerate(nodes):\n",
    "    response = structured_llm.chat(prompt.format_messages(document=node.text))\n",
    "\n",
    "    for proposition in response.raw.propositions:\n",
    "        propositions.append(Document(text=proposition, metadata={\"Title\": \"Paul Graham's Founder Mode Essay\", \"Source\": \"https://www.perplexity.ai/page/paul-graham-s-founder-mode-ess-t9TCyvkqRiyMQJWsHr0fnQ\", \"chunk_id\": i+1}))\n",
    "\n",
    "print(propositions)"
   ]
  },
  {
   "cell_type": "markdown",
   "metadata": {},
   "source": [
    "### Quality Check"
   ]
  },
  {
   "cell_type": "code",
   "execution_count": 37,
   "metadata": {},
   "outputs": [],
   "source": [
    "class GradePropositions(BaseModel):\n",
    "    \"\"\"Grade a given proposition on accuracy, clarity, completeness, and conciseness\"\"\"\n",
    "\n",
    "    accuracy: int = Field(\n",
    "        description=\"Rate from 1-10 based on how well the proposition reflects the original text.\"\n",
    "    )\n",
    "    \n",
    "    clarity: int = Field(\n",
    "        description=\"Rate from 1-10 based on how easy it is to understand the proposition without additional context.\"\n",
    "    )\n",
    "\n",
    "    completeness: int = Field(\n",
    "        description=\"Rate from 1-10 based on whether the proposition includes necessary details (e.g., dates, qualifiers).\"\n",
    "    )\n",
    "\n",
    "    conciseness: int = Field(\n",
    "        description=\"Rate from 1-10 based on whether the proposition is concise without losing important information.\"\n",
    "    )\n",
    "\n",
    "# LLM with function call\n",
    "proposition_grader_llm = OpenAI(model=\"gpt-4o-mini\").as_structured_llm(output_cls=GradePropositions)\n",
    "\n",
    "\n",
    "# Prompt\n",
    "evaluation_prompt_template = \"\"\"\n",
    "Please evaluate the following proposition based on the criteria below:\n",
    "- **Accuracy**: Rate from 1-10 based on how well the proposition reflects the original text.\n",
    "- **Clarity**: Rate from 1-10 based on how easy it is to understand the proposition without additional context.\n",
    "- **Completeness**: Rate from 1-10 based on whether the proposition includes necessary details (e.g., dates, qualifiers).\n",
    "- **Conciseness**: Rate from 1-10 based on whether the proposition is concise without losing important information.\n",
    "\n",
    "Example:\n",
    "Docs: In 1969, Neil Armstrong became the first person to walk on the Moon during the Apollo 11 mission.\n",
    "\n",
    "Propositons_1: Neil Armstrong was an astronaut.\n",
    "Evaluation_1: \"accuracy\": 10, \"clarity\": 10, \"completeness\": 10, \"conciseness\": 10\n",
    "\n",
    "Propositons_2: Neil Armstrong walked on the Moon in 1969.\n",
    "Evaluation_3: \"accuracy\": 10, \"clarity\": 10, \"completeness\": 10, \"conciseness\": 10\n",
    "\n",
    "Propositons_3: Neil Armstrong was the first person to walk on the Moon.\n",
    "Evaluation_3: \"accuracy\": 10, \"clarity\": 10, \"completeness\": 10, \"conciseness\": 10\n",
    "\n",
    "Propositons_4: Neil Armstrong walked on the Moon during the Apollo 11 mission.\n",
    "Evaluation_4: \"accuracy\": 10, \"clarity\": 10, \"completeness\": 10, \"conciseness\": 10\n",
    "\n",
    "Propositons_5: The Apollo 11 mission occurred in 1969.\n",
    "Evaluation_5: \"accuracy\": 10, \"clarity\": 10, \"completeness\": 10, \"conciseness\": 10\n",
    "\n",
    "Format:\n",
    "Proposition: \"{proposition}\"\n",
    "Original Text: \"{original_text}\"\n",
    "\"\"\"\n",
    "grader_prompt = ChatPromptTemplate.from_messages([\n",
    "    (MessageRole.SYSTEM, evaluation_prompt_template),\n",
    "    (MessageRole.USER, \"{proposition}, {original_text}\"),\n",
    "])"
   ]
  },
  {
   "cell_type": "code",
   "execution_count": 42,
   "metadata": {},
   "outputs": [
    {
     "name": "stdout",
     "output_type": "stream",
     "text": [
      "Evaluating Proposition 1, chunk 1, 3\n",
      "Evaluating Proposition 2, chunk 1, 3\n",
      "Evaluating Proposition 3, chunk 1, 3\n",
      "Evaluating Proposition 4, chunk 1, 3\n",
      "Evaluating Proposition 5, chunk 1, 3\n",
      "Evaluating Proposition 6, chunk 1, 3\n",
      "6) Propostion: The traditional approach is suitable for established companies. \n",
      " Scores: {'accuracy': 8, 'clarity': 7, 'completeness': 6, 'conciseness': 8}\n",
      "Failed\n",
      "Evaluating Proposition 7, chunk 1, 3\n",
      "Evaluating Proposition 8, chunk 1, 3\n",
      "Evaluating Proposition 9, chunk 1, 3\n",
      "Evaluating Proposition 10, chunk 1, 3\n",
      "Evaluating Proposition 11, chunk 1, 3\n",
      "Evaluating Proposition 12, chunk 1, 3\n",
      "Evaluating Proposition 13, chunk 2, 3\n",
      "Evaluating Proposition 14, chunk 2, 3\n",
      "Evaluating Proposition 15, chunk 2, 3\n",
      "Evaluating Proposition 16, chunk 2, 3\n",
      "Evaluating Proposition 17, chunk 2, 3\n",
      "Evaluating Proposition 18, chunk 2, 3\n",
      "Evaluating Proposition 19, chunk 2, 3\n",
      "Evaluating Proposition 20, chunk 2, 3\n",
      "Evaluating Proposition 21, chunk 2, 3\n",
      "21) Propostion: Traditional manager mode is currently better understood than \"Founder Mode\". \n",
      " Scores: {'accuracy': 5, 'clarity': 6, 'completeness': 5, 'conciseness': 7}\n",
      "Failed\n",
      "Evaluating Proposition 22, chunk 2, 3\n",
      "Evaluating Proposition 23, chunk 2, 3\n",
      "Evaluating Proposition 24, chunk 2, 3\n",
      "Evaluating Proposition 25, chunk 2, 3\n",
      "Evaluating Proposition 26, chunk 2, 3\n",
      "Evaluating Proposition 27, chunk 3, 3\n",
      "Evaluating Proposition 28, chunk 3, 3\n",
      "Evaluating Proposition 29, chunk 3, 3\n",
      "Evaluating Proposition 30, chunk 3, 3\n",
      "Evaluating Proposition 31, chunk 3, 3\n",
      "Evaluating Proposition 32, chunk 3, 3\n",
      "Evaluating Proposition 33, chunk 3, 3\n",
      "Evaluating Proposition 34, chunk 3, 3\n",
      "Evaluating Proposition 35, chunk 3, 3\n",
      "Evaluating Proposition 36, chunk 3, 3\n",
      "Evaluating Proposition 37, chunk 3, 3\n",
      "Evaluating Proposition 38, chunk 3, 3\n",
      "Evaluating Proposition 39, chunk 3, 3\n",
      "39) Propostion: The traditional notion suggests delegating responsibilities to professional managers as companies scale. \n",
      " Scores: {'accuracy': 10, 'clarity': 8, 'completeness': 7, 'conciseness': 6}\n",
      "Failed\n"
     ]
    }
   ],
   "source": [
    "thresholds = {\n",
    "    \"accuracy\": 7,\n",
    "    \"clarity\": 7,\n",
    "    \"completeness\": 7,\n",
    "    \"conciseness\": 7,\n",
    "}\n",
    "\n",
    "def evaluate_proposition(proposition, original_text):\n",
    "    response = proposition_grader_llm.chat(grader_prompt.format_messages(proposition=proposition, original_text=original_text))\n",
    "    scores = {\"accuracy\": response.raw.accuracy, \"clarity\": response.raw.clarity, \"completeness\": response.raw.completeness, \"conciseness\": response.raw.conciseness}\n",
    "    return scores\n",
    "\n",
    "def passes_quality_check(scores):\n",
    "    for category, score in scores.items():\n",
    "        if score < thresholds[category]:\n",
    "            return False\n",
    "    return True\n",
    "\n",
    "passing_propositions = []\n",
    "\n",
    "for i, proposition in enumerate(propositions):\n",
    "    print(f\"Evaluating Proposition {i+1}, chunk {proposition.metadata['chunk_id']}, {len(nodes)}\")\n",
    "    scores = evaluate_proposition(proposition.text, nodes[proposition.metadata[\"chunk_id\"] - 1].text)\n",
    "    if passes_quality_check(scores):\n",
    "        passing_propositions.append(proposition)\n",
    "    else:\n",
    "        print(f\"{i+1}) Propostion: {proposition.text} \\n Scores: {scores}\")\n",
    "        print(\"Failed\")\n"
   ]
  },
  {
   "cell_type": "markdown",
   "metadata": {},
   "source": [
    "### Embedding propositions in a vectorstore"
   ]
  },
  {
   "cell_type": "code",
   "execution_count": 43,
   "metadata": {},
   "outputs": [],
   "source": [
    "import faiss\n",
    "\n",
    "from llama_index.core import (\n",
    "    SimpleDirectoryReader,\n",
    "    load_index_from_storage,\n",
    "    VectorStoreIndex,\n",
    "    StorageContext,\n",
    ")\n",
    "d = 1536\n",
    "faiss_index = faiss.IndexFlatL2(d)\n"
   ]
  },
  {
   "cell_type": "code",
   "execution_count": 47,
   "metadata": {},
   "outputs": [],
   "source": [
    "from llama_index.vector_stores.faiss import FaissVectorStore\n",
    "\n",
    "vector_store = FaissVectorStore(faiss_index=faiss_index)\n",
    "storage_context = StorageContext.from_defaults(vector_store=vector_store)\n",
    "index = VectorStoreIndex.from_documents(\n",
    "    passing_propositions, storage_context=storage_context\n",
    ")"
   ]
  },
  {
   "cell_type": "markdown",
   "metadata": {},
   "source": [
    "Get a retriever to query the index"
   ]
  },
  {
   "cell_type": "code",
   "execution_count": 50,
   "metadata": {},
   "outputs": [
    {
     "name": "stdout",
     "output_type": "stream",
     "text": [
      "[NodeWithScore(node=TextNode(id_='e966791e-4047-4364-8814-57189461517d', embedding=None, metadata={'Title': \"Paul Graham's Founder Mode Essay\", 'Source': 'https://www.perplexity.ai/page/paul-graham-s-founder-mode-ess-t9TCyvkqRiyMQJWsHr0fnQ', 'chunk_id': 3}, excluded_embed_metadata_keys=[], excluded_llm_metadata_keys=[], relationships={<NodeRelationship.SOURCE: '1'>: RelatedNodeInfo(node_id='c339a9e4-1e76-4edb-8b1f-ad06313aa43a', node_type=<ObjectType.DOCUMENT: '4'>, metadata={'Title': \"Paul Graham's Founder Mode Essay\", 'Source': 'https://www.perplexity.ai/page/paul-graham-s-founder-mode-ess-t9TCyvkqRiyMQJWsHr0fnQ', 'chunk_id': 3}, hash='0d07ee0e080a17966c631b21cad633785db8d55b9d9c4dbe3449a41a3163de8a')}, text='Brian Chesky was advised to run Airbnb in a traditional managerial style.', mimetype='text/plain', start_char_idx=0, end_char_idx=73, text_template='{metadata_str}\\n\\n{content}', metadata_template='{key}: {value}', metadata_seperator='\\n'), score=0.5033988356590271), NodeWithScore(node=TextNode(id_='5f7ff022-d7ab-462f-bb92-5a2743ef89c6', embedding=None, metadata={'Title': \"Paul Graham's Founder Mode Essay\", 'Source': 'https://www.perplexity.ai/page/paul-graham-s-founder-mode-ess-t9TCyvkqRiyMQJWsHr0fnQ', 'chunk_id': 3}, excluded_embed_metadata_keys=[], excluded_llm_metadata_keys=[], relationships={<NodeRelationship.SOURCE: '1'>: RelatedNodeInfo(node_id='ebce5219-94c7-4c48-a912-305c2f52ec3d', node_type=<ObjectType.DOCUMENT: '4'>, metadata={'Title': \"Paul Graham's Founder Mode Essay\", 'Source': 'https://www.perplexity.ai/page/paul-graham-s-founder-mode-ess-t9TCyvkqRiyMQJWsHr0fnQ', 'chunk_id': 3}, hash='4d4b421af5b809e2485b10df7d842d674b3afee76ebeaa410cc4176c6261ddd0')}, text='Brian Chesky is the co-founder of Airbnb.', mimetype='text/plain', start_char_idx=0, end_char_idx=41, text_template='{metadata_str}\\n\\n{content}', metadata_template='{key}: {value}', metadata_seperator='\\n'), score=0.6034026741981506), NodeWithScore(node=TextNode(id_='27f578d9-5efa-4394-bf99-8a2fa5d1b631', embedding=None, metadata={'Title': \"Paul Graham's Founder Mode Essay\", 'Source': 'https://www.perplexity.ai/page/paul-graham-s-founder-mode-ess-t9TCyvkqRiyMQJWsHr0fnQ', 'chunk_id': 3}, excluded_embed_metadata_keys=[], excluded_llm_metadata_keys=[], relationships={<NodeRelationship.SOURCE: '1'>: RelatedNodeInfo(node_id='953f856f-c280-40cc-bbea-c33d1566be22', node_type=<ObjectType.DOCUMENT: '4'>, metadata={'Title': \"Paul Graham's Founder Mode Essay\", 'Source': 'https://www.perplexity.ai/page/paul-graham-s-founder-mode-ess-t9TCyvkqRiyMQJWsHr0fnQ', 'chunk_id': 3}, hash='8e90d9ba0fde990e56cb1fe1cd31d9d0b2ffb206bb8a0fc30e7c2ba6e58450ae')}, text=\"Brian Chesky's approach was influenced by Steve Jobs' management style at Apple.\", mimetype='text/plain', start_char_idx=0, end_char_idx=80, text_template='{metadata_str}\\n\\n{content}', metadata_template='{key}: {value}', metadata_seperator='\\n'), score=0.625695526599884), NodeWithScore(node=TextNode(id_='6203c360-2cac-4c30-9b5f-153ab95bc44a', embedding=None, metadata={'Title': \"Paul Graham's Founder Mode Essay\", 'Source': 'https://www.perplexity.ai/page/paul-graham-s-founder-mode-ess-t9TCyvkqRiyMQJWsHr0fnQ', 'chunk_id': 3}, excluded_embed_metadata_keys=[], excluded_llm_metadata_keys=[], relationships={<NodeRelationship.SOURCE: '1'>: RelatedNodeInfo(node_id='db1befd5-920e-4815-b8ef-adce1ab638a8', node_type=<ObjectType.DOCUMENT: '4'>, metadata={'Title': \"Paul Graham's Founder Mode Essay\", 'Source': 'https://www.perplexity.ai/page/paul-graham-s-founder-mode-ess-t9TCyvkqRiyMQJWsHr0fnQ', 'chunk_id': 3}, hash='f08a2efd3317b05c17648c7ed4291fe2ba6b1cd3171412f75a7f99db166205e6')}, text='Brian Chesky found success by adopting a different approach.', mimetype='text/plain', start_char_idx=0, end_char_idx=60, text_template='{metadata_str}\\n\\n{content}', metadata_template='{key}: {value}', metadata_seperator='\\n'), score=0.6523866653442383), NodeWithScore(node=TextNode(id_='78ad7488-2efb-41ce-91b3-21b78671bcf0', embedding=None, metadata={'Title': \"Paul Graham's Founder Mode Essay\", 'Source': 'https://www.perplexity.ai/page/paul-graham-s-founder-mode-ess-t9TCyvkqRiyMQJWsHr0fnQ', 'chunk_id': 3}, excluded_embed_metadata_keys=[], excluded_llm_metadata_keys=[], relationships={<NodeRelationship.SOURCE: '1'>: RelatedNodeInfo(node_id='d35a50a4-f361-49cc-a07c-9d74959cd9fa', node_type=<ObjectType.DOCUMENT: '4'>, metadata={'Title': \"Paul Graham's Founder Mode Essay\", 'Source': 'https://www.perplexity.ai/page/paul-graham-s-founder-mode-ess-t9TCyvkqRiyMQJWsHr0fnQ', 'chunk_id': 3}, hash='380a4f4421b38f26fada24f6fab0e11e12e419f0ec5dd5616a324ca8dc7460bc')}, text='The traditional managerial style led to poor outcomes for Airbnb.', mimetype='text/plain', start_char_idx=0, end_char_idx=65, text_template='{metadata_str}\\n\\n{content}', metadata_template='{key}: {value}', metadata_seperator='\\n'), score=0.7050772905349731)]\n"
     ]
    }
   ],
   "source": [
    "retriever = index.as_retriever(similarity_top_k=5)\n",
    "query = \"Who's management approach served as inspiartion for Brian Chesky's \\\"Founder Mode\\\" at Airbnb?\"\n",
    "res_proposition = retriever.retrieve(query)\n",
    "print(res_proposition)"
   ]
  },
  {
   "cell_type": "code",
   "execution_count": 51,
   "metadata": {},
   "outputs": [
    {
     "name": "stdout",
     "output_type": "stream",
     "text": [
      "1 Content: Brian Chesky was advised to run Airbnb in a traditional managerial style. --- Chunk id: 3\n",
      "2 Content: Brian Chesky is the co-founder of Airbnb. --- Chunk id: 3\n",
      "3 Content: Brian Chesky's approach was influenced by Steve Jobs' management style at Apple. --- Chunk id: 3\n",
      "4 Content: Brian Chesky found success by adopting a different approach. --- Chunk id: 3\n",
      "5 Content: The traditional managerial style led to poor outcomes for Airbnb. --- Chunk id: 3\n"
     ]
    }
   ],
   "source": [
    "for i, r in enumerate(res_proposition):\n",
    "    print(f\"{i+1} Content: {r.text} --- Chunk id: {r.metadata['chunk_id']}\")"
   ]
  },
  {
   "cell_type": "markdown",
   "metadata": {},
   "source": [
    "### Comparing performance with large chunks size"
   ]
  },
  {
   "cell_type": "code",
   "execution_count": 61,
   "metadata": {},
   "outputs": [],
   "source": [
    "# I'm unsure if this line creates the vector store or not, need to look into the docs\n",
    "d = 1536\n",
    "faiss_index2 = faiss.IndexFlatL2(d)\n",
    "\n",
    "vectorstore_larger = FaissVectorStore(faiss_index=faiss_index2)\n",
    "vectorstore_larger_storage_context = StorageContext.from_defaults(vector_store=vectorstore_larger)\n",
    "vectorstore_larger_index = VectorStoreIndex(nodes, storage_context=vectorstore_larger_storage_context)\n",
    "retriever_larger = vectorstore_larger_index.as_retriever(similarity_top_k=5)"
   ]
  },
  {
   "cell_type": "markdown",
   "metadata": {},
   "source": [
    "Now we test the performance on the index without proposition chunking:"
   ]
  },
  {
   "cell_type": "code",
   "execution_count": 63,
   "metadata": {},
   "outputs": [
    {
     "name": "stdout",
     "output_type": "stream",
     "text": [
      "1 Content: Brian Chesky, co-founder of Airbnb, shared his experience of being advised to run the company in a traditional managerial style, which led to poor outcomes. He eventually found success by adopting a different approach, influenced by how Steve Jobs managed Apple.\n",
      "Steve Jobs' Management Style\n",
      "Steve Jobs' management approach at Apple served as inspiration for Brian Chesky's \"Founder Mode\" at Airbnb. One notable practice was Jobs' annual retreat for the 100 most important people at Apple, regardless of their position on the organizational chart\n",
      ". This unconventional method allowed Jobs to maintain a startup-like environment even as Apple grew, fostering innovation and direct communication across hierarchical levels. Such practices emphasize the importance of founders staying deeply involved in their companies' operations, challenging the traditional notion of delegating responsibilities to professional managers as companies scale. --- Chunk id: 3\n",
      "2 Content: Unique Founder Abilities\n",
      "Founders possess unique insights and abilities that professional managers do not, primarily because they have a deep understanding of their company's vision and culture.\n",
      "Graham suggests that founders should leverage these strengths rather than conform to traditional managerial practices. \"Founder Mode\" is an emerging paradigm that is not yet fully understood or documented, with Graham hoping that over time, it will become as well-understood as the traditional manager mode, allowing founders to maintain their unique approach even as their companies scale.\n",
      "Challenges of Scaling Startups\n",
      "As startups grow, there is a common belief that they must transition to a more structured managerial approach. However, many founders have found this transition problematic, as it often leads to a loss of the innovative and agile spirit that drove the startup's initial success. --- Chunk id: 2\n",
      "3 Content: Paul Graham's essay \"Founder Mode,\" published in September 2024, challenges conventional wisdom about scaling startups, arguing that founders should maintain their unique management style rather than adopting traditional corporate practices as their companies grow.\n",
      "Conventional Wisdom vs. Founder Mode\n",
      "The essay argues that the traditional advice given to growing companies—hiring good people and giving them autonomy—often fails when applied to startups.\n",
      "This approach, suitable for established companies, can be detrimental to startups where the founder's vision and direct involvement are crucial. \"Founder Mode\" is presented as an emerging paradigm that is not yet fully understood or documented, contrasting with the conventional \"manager mode\" often advised by business schools and professional managers.\n",
      "Unique Founder Abilities\n",
      "Founders possess unique insights and abilities that professional managers do not, primarily because they have a deep understanding of their company's vision and culture. --- Chunk id: 1\n"
     ]
    }
   ],
   "source": [
    "res_larger = retriever_larger.retrieve(query)\n",
    "for i, r in enumerate(res_larger):\n",
    "    print(f\"{i+1} Content: {r.text} --- Chunk id: {r.metadata['chunk_id']}\")"
   ]
  },
  {
   "cell_type": "markdown",
   "metadata": {},
   "source": [
    "### Testing"
   ]
  },
  {
   "cell_type": "code",
   "execution_count": 65,
   "metadata": {},
   "outputs": [],
   "source": [
    "test_query_1 = \"what is the essay \\\"Founder Mode\\\" about?\"\n",
    "res_proposition = retriever.retrieve(test_query_1)\n",
    "res_larger = retriever_larger.retrieve(test_query_1)\n"
   ]
  },
  {
   "cell_type": "code",
   "execution_count": 66,
   "metadata": {},
   "outputs": [
    {
     "name": "stdout",
     "output_type": "stream",
     "text": [
      "1) Content: \"Founder Mode\" contrasts with the conventional \"manager mode\" advised by business schools. --- Chunk_id: 1\n",
      "2) Content: \"Founder Mode\" is an emerging paradigm that is not yet fully understood or documented. --- Chunk_id: 1\n",
      "3) Content: \"Founder Mode\" is an emerging paradigm. --- Chunk_id: 2\n",
      "4) Content: Paul Graham's essay \"Founder Mode\" challenges conventional wisdom about scaling startups. --- Chunk_id: 1\n",
      "5) Content: Graham hopes that \"Founder Mode\" will become well-understood over time. --- Chunk_id: 2\n"
     ]
    }
   ],
   "source": [
    "for i, r in enumerate(res_proposition):\n",
    "    print(f\"{i+1}) Content: {r.text} --- Chunk_id: {r.metadata['chunk_id']}\")"
   ]
  },
  {
   "cell_type": "code",
   "execution_count": 67,
   "metadata": {},
   "outputs": [
    {
     "name": "stdout",
     "output_type": "stream",
     "text": [
      "1) Content: Paul Graham's essay \"Founder Mode,\" published in September 2024, challenges conventional wisdom about scaling startups, arguing that founders should maintain their unique management style rather than adopting traditional corporate practices as their companies grow.\n",
      "Conventional Wisdom vs. Founder Mode\n",
      "The essay argues that the traditional advice given to growing companies—hiring good people and giving them autonomy—often fails when applied to startups.\n",
      "This approach, suitable for established companies, can be detrimental to startups where the founder's vision and direct involvement are crucial. \"Founder Mode\" is presented as an emerging paradigm that is not yet fully understood or documented, contrasting with the conventional \"manager mode\" often advised by business schools and professional managers.\n",
      "Unique Founder Abilities\n",
      "Founders possess unique insights and abilities that professional managers do not, primarily because they have a deep understanding of their company's vision and culture. --- Chunk_id: 1\n",
      "2) Content: Unique Founder Abilities\n",
      "Founders possess unique insights and abilities that professional managers do not, primarily because they have a deep understanding of their company's vision and culture.\n",
      "Graham suggests that founders should leverage these strengths rather than conform to traditional managerial practices. \"Founder Mode\" is an emerging paradigm that is not yet fully understood or documented, with Graham hoping that over time, it will become as well-understood as the traditional manager mode, allowing founders to maintain their unique approach even as their companies scale.\n",
      "Challenges of Scaling Startups\n",
      "As startups grow, there is a common belief that they must transition to a more structured managerial approach. However, many founders have found this transition problematic, as it often leads to a loss of the innovative and agile spirit that drove the startup's initial success. --- Chunk_id: 2\n",
      "3) Content: Brian Chesky, co-founder of Airbnb, shared his experience of being advised to run the company in a traditional managerial style, which led to poor outcomes. He eventually found success by adopting a different approach, influenced by how Steve Jobs managed Apple.\n",
      "Steve Jobs' Management Style\n",
      "Steve Jobs' management approach at Apple served as inspiration for Brian Chesky's \"Founder Mode\" at Airbnb. One notable practice was Jobs' annual retreat for the 100 most important people at Apple, regardless of their position on the organizational chart\n",
      ". This unconventional method allowed Jobs to maintain a startup-like environment even as Apple grew, fostering innovation and direct communication across hierarchical levels. Such practices emphasize the importance of founders staying deeply involved in their companies' operations, challenging the traditional notion of delegating responsibilities to professional managers as companies scale. --- Chunk_id: 3\n"
     ]
    }
   ],
   "source": [
    "for i, r in enumerate(res_larger):\n",
    "    print(f\"{i+1}) Content: {r.text} --- Chunk_id: {r.metadata['chunk_id']}\")"
   ]
  }
 ],
 "metadata": {
  "kernelspec": {
   "display_name": "rag-techniques-EJ0Etk4F-py3.11",
   "language": "python",
   "name": "python3"
  },
  "language_info": {
   "codemirror_mode": {
    "name": "ipython",
    "version": 3
   },
   "file_extension": ".py",
   "mimetype": "text/x-python",
   "name": "python",
   "nbconvert_exporter": "python",
   "pygments_lexer": "ipython3",
   "version": "3.11.6"
  }
 },
 "nbformat": 4,
 "nbformat_minor": 2
}
