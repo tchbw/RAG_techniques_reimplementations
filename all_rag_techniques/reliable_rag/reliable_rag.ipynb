{
 "cells": [
  {
   "cell_type": "markdown",
   "metadata": {},
   "source": [
    "## Key components\n",
    "Reliable RAG is an improvement over naive RAG that addresses:\n",
    "1. Retrieval of irrelevant documents\n",
    "2. Hallucinations not grounded in facts from the retrieved information\n",
    "3. Citation of sources used to generate the response\n",
    "\n",
    "How does it do this?\n",
    "1. Use an LLM to filter retrieved documents\n",
    "2. Something\n",
    "3. Something"
   ]
  },
  {
   "cell_type": "code",
   "execution_count": null,
   "metadata": {},
   "outputs": [],
   "source": [
    "!poetry add llama-index llama-index-readers-web"
   ]
  },
  {
   "cell_type": "code",
   "execution_count": null,
   "metadata": {},
   "outputs": [],
   "source": [
    "!poetry add llama-index-vector-stores-chroma"
   ]
  },
  {
   "cell_type": "code",
   "execution_count": null,
   "metadata": {},
   "outputs": [],
   "source": [
    "!poetry add python-dotenv"
   ]
  },
  {
   "cell_type": "markdown",
   "metadata": {},
   "source": [
    "###  Import Libraries and enviornment variables"
   ]
  },
  {
   "cell_type": "code",
   "execution_count": 1,
   "metadata": {},
   "outputs": [],
   "source": [
    "import os\n",
    "from dotenv.main import load_dotenv\n",
    "\n",
    "# Load environment variables from '.env' file\n",
    "load_dotenv()\n",
    "\n",
    "os.environ['OPENAI_API_KEY'] = os.getenv(\"OPENAI_API_KEY\")"
   ]
  },
  {
   "cell_type": "markdown",
   "metadata": {},
   "source": [
    "### Load documents"
   ]
  },
  {
   "cell_type": "code",
   "execution_count": 2,
   "metadata": {},
   "outputs": [],
   "source": [
    "\n",
    "from llama_index.readers.web import SimpleWebPageReader\n",
    "from llama_index.core.node_parser import (\n",
    "    SentenceSplitter,\n",
    "    SemanticSplitterNodeParser,\n",
    ")\n",
    "\n",
    "\n",
    "urls = [\n",
    "    \"https://www.deeplearning.ai/the-batch/how-agents-can-improve-llm-performance/?ref=dl-staging-website.ghost.io\",\n",
    "    \"https://www.deeplearning.ai/the-batch/agentic-design-patterns-part-2-reflection/?ref=dl-staging-website.ghost.io\",\n",
    "    \"https://www.deeplearning.ai/the-batch/agentic-design-patterns-part-3-tool-use/?ref=dl-staging-website.ghost.io\",\n",
    "    \"https://www.deeplearning.ai/the-batch/agentic-design-patterns-part-4-planning/?ref=dl-staging-website.ghost.io\",\n",
    "    \"https://www.deeplearning.ai/the-batch/agentic-design-patterns-part-5-multi-agent-collaboration/?ref=dl-staging-website.ghost.io\"\n",
    "]\n",
    "\n",
    "loaded_docs = SimpleWebPageReader(html_to_text=True).load_data(urls)"
   ]
  },
  {
   "cell_type": "markdown",
   "metadata": {},
   "source": [
    "If I used a better loader I could get metadata like page title."
   ]
  },
  {
   "cell_type": "markdown",
   "metadata": {},
   "source": [
    "### Create vector store"
   ]
  },
  {
   "cell_type": "markdown",
   "metadata": {},
   "source": [
    "#### Create chroma vector store if it doesn't exist"
   ]
  },
  {
   "cell_type": "code",
   "execution_count": 3,
   "metadata": {},
   "outputs": [],
   "source": [
    "import chromadb\n",
    "chroma_client = chromadb.EphemeralClient()\n",
    "chroma_collection = chroma_client.create_collection(\"reliable_rag\")"
   ]
  },
  {
   "cell_type": "markdown",
   "metadata": {},
   "source": [
    "### Chunk the documents"
   ]
  },
  {
   "cell_type": "code",
   "execution_count": 4,
   "metadata": {},
   "outputs": [],
   "source": [
    "\n",
    "from llama_index.embeddings.openai import OpenAIEmbedding\n",
    "\n",
    "embed_model = OpenAIEmbedding()\n",
    "splitter = SemanticSplitterNodeParser(\n",
    "    buffer_size=1, breakpoint_percentile_threshold=95, embed_model=embed_model\n",
    ")\n",
    "\n",
    "nodes = splitter.get_nodes_from_documents(loaded_docs)\n"
   ]
  },
  {
   "cell_type": "code",
   "execution_count": 6,
   "metadata": {},
   "outputs": [
    {
     "data": {
      "text/plain": [
       "\"✨ New course! Enroll in  [Retrieval Optimization: From Tokenization to Vector\\nQuantization](https://bit.ly/3Y3pjp2)\\n\\n[![](data:image/svg+xml,%3csvg%20xmlns=%27http://www.w3.org/2000/svg%27%20version=%271.1%27%20width=%27300%27%20height=%2792%27/%3e)![The\\nBatch](data:image/gif;base64,R0lGODlhAQABAIAAAAAAAP///yH5BAEAAAAALAAAAAABAAEAAAIBRAA7)![The\\nBatch](/_next/image/?url=%2F_next%2Fstatic%2Fmedia%2Fdlai-batch-\\nlogo.a60dbb9f.png&w=640&q=75)](/the-batch/)\\n\\n  * [Explore Courses](/courses/)\\n  * [AI Newsletter](/the-batch/)\\n    * [The Batch](/the-batch/)\\n    * [Andrew's Letter](/the-batch/tag/letters/)\\n    * [Data Points](/the-batch/tag/data-points/)\\n    * [ML Research](/the-batch/tag/research/)\\n    * [Blog](/blog/)\\n  * [Community](/community/)\\n    * [Forum](https://community.deeplearning.ai/)\\n    * [Events](/events/)\\n    * [Ambassadors](/ambassador/)\\n    * [Ambassador Spotlight](/blog/category/ambassador-spotlight/)\\n  * [Resources](/resources/)\\n  * [Company](/about/)\\n    * [About](/about/)\\n    * [Careers](/careers/)\\n    * [Contact](/contact/)\\n\\n[Start Learning](https://bit.ly/4cwWNAv)\\n\\n  * [Weekly Issues](/the-batch/)\\n  * [Andrew's Letters](/the-batch/tag/letters/)\\n  * [Data Points](/the-batch/tag/data-points/)\\n  * [ML Research](/the-batch/tag/research/)\\n  * [Business](/the-batch/tag/business/)\\n  * [Science](/the-batch/tag/science/)\\n  * [AI & Society](/the-batch/tag/ai-society/)\\n  * [Culture](/the-batch/tag/culture/)\\n  * [Hardware](/the-batch/tag/hardware/)\\n  * [AI Careers](/the-batch/tag/ai-careers/)\\n\\n  * [About](/the-batch/about/)\\n\\nSubscribe[](/search/)\\n\\n  * [The Batch](/the-batch/)\\n  * [Letters](/the-batch/tag/letters/)\\n  * [Article](/the-batch/how-agents-can-improve-llm-performance/)\\n\\n# Agentic Design Patterns Part 1 Four AI agent strategies that improve GPT-4\\nand GPT-3.5 performance\\n\\n[Letters](/the-batch/tag/letters/)[Technical Insights](/the-\\nbatch/tag/technical-insights/)\\n\\nPublished\\n\\n[Mar 20, 2024](/the-batch/tag/mar-20-2024/)\\n\\nReading time\\n\\n2 min read\\n\\n![Agentic Design Patterns Part 1: Four AI agent strategies that improve GPT-4\\nand GPT-3.5\\nperformance](data:image/gif;base64,R0lGODlhAQABAIAAAAAAAP///yH5BAEAAAAALAAAAAABAAEAAAIBRAA7)![Agentic\\nDesign Patterns Part 1: Four AI agent strategies that improve GPT-4 and\\nGPT-3.5 performance](/_next/image/?url=https%3A%2F%2Fdl-staging-\\nwebsite.ghost.io%2Fcontent%2Fimages%2F2024%2F03%2Funnamed--55--\\n2.jpg&w=3840&q=75)\\n\\nShare\\n\\n  * [](https://twitter.com/intent/tweet?url=https://www.deeplearning.ai/the-batch/how-agents-can-improve-llm-performance/)\\n  * [](https://www.facebook.com/sharer/sharer.php?u=https://www.deeplearning.ai/the-batch/how-agents-can-improve-llm-performance/)\\n  * [](https://www.linkedin.com/shareArticle?mini=true&url=https://www.deeplearning.ai/the-batch/how-agents-can-improve-llm-performance/)\\n\\nDear friends,\\n\\nI think AI agent workflows will drive massive AI progress this year — perhaps\\neven more than the next generation of foundation models. This is an important\\ntrend, and I urge everyone who works in AI to pay attention to it.\\n\\nToday, we mostly use LLMs in zero-shot mode, prompting a model to generate\\nfinal output token by token without revising its work. This is akin to asking\\nsomeone to compose an essay from start to finish, typing straight through with\\nno backspacing allowed, and expecting a high-quality result. Despite the\\ndifficulty, LLMs do amazingly well at this task!\\n\\nWith an agent workflow, however, we can ask the LLM to iterate over a document\\nmany times. For example, it might take a sequence of steps such as:\\n\\n  * Plan an outline.\\n  * Decide what, if any, web searches are needed to gather more information.\\n  * Write a first draft.\\n  * Read over the first draft to spot unjustified arguments or extraneous information.\\n  * Revise the draft taking into account any weaknesses spotted.\\n  * And so on.\\n\\nThis iterative process is critical for most human writers to write good text.\\nWith AI, such an iterative workflow yields much better results than writing in\\na single pass.\\n\\n[Devin](https://www.cognition-labs.com/introducing-\\ndevin?utm_campaign=The%20Batch&utm_source=hs_email&utm_medium=email&_hsenc=p2ANqtz\\n--QGCoaEh42QGUTnfoPl5an-ds0dVuJeNXLRxVO4h72DKVH187SV0hJ06VkEN-DlSHanUDK)’s\\nsplashy demo recently received a lot of social media buzz. My team has been\\nclosely following the evolution of AI that writes code. We analyzed results\\nfrom a number of research teams, focusing on an algorithm’s ability to do well\\non the widely used HumanEval coding benchmark. You can see our findings in the\\ndiagram below.\\n\\n\""
      ]
     },
     "execution_count": 6,
     "metadata": {},
     "output_type": "execute_result"
    }
   ],
   "source": [
    "nodes[0].get_content()"
   ]
  },
  {
   "cell_type": "markdown",
   "metadata": {},
   "source": [
    "Store the chunks in Chroma"
   ]
  },
  {
   "cell_type": "code",
   "execution_count": 7,
   "metadata": {},
   "outputs": [],
   "source": [
    "from llama_index.core import StorageContext\n",
    "from llama_index.core import VectorStoreIndex\n",
    "from llama_index.vector_stores.chroma import ChromaVectorStore\n",
    "\n",
    "\n",
    "vector_store = ChromaVectorStore(chroma_collection=chroma_collection)\n",
    "storage_context = StorageContext.from_defaults(vector_store=vector_store)\n",
    "index = VectorStoreIndex(nodes, storage_context=storage_context)"
   ]
  },
  {
   "cell_type": "code",
   "execution_count": 8,
   "metadata": {},
   "outputs": [],
   "source": [
    "retriever = index.as_retriever(similarity_top_k=2)"
   ]
  },
  {
   "cell_type": "markdown",
   "metadata": {},
   "source": [
    "### Question"
   ]
  },
  {
   "cell_type": "code",
   "execution_count": 9,
   "metadata": {},
   "outputs": [],
   "source": [
    "question = \"what are the differnt kind of agentic design patterns?\""
   ]
  },
  {
   "cell_type": "markdown",
   "metadata": {},
   "source": [
    "### Retrieve documents"
   ]
  },
  {
   "cell_type": "code",
   "execution_count": 12,
   "metadata": {},
   "outputs": [],
   "source": [
    "docs = retriever.retrieve(question)"
   ]
  },
  {
   "cell_type": "markdown",
   "metadata": {},
   "source": [
    "### Check what our docs look like"
   ]
  },
  {
   "cell_type": "code",
   "execution_count": 15,
   "metadata": {},
   "outputs": [
    {
     "name": "stdout",
     "output_type": "stream",
     "text": [
      "Text: [Proposed\n",
      "ChatDev architecture, illustrated.](/_next/image/?url=https%3A%2F%2Fdl-\n",
      "staging-website.ghost.io%2Fcontent%2Fimages%2F2024%2F04%2Funnamed---\n",
      "2024-04-17T155856.845-2.png&w=3840&q=75)\n",
      "\n",
      "Share\n",
      "\n",
      "  * [](https://twitter.com/intent/tweet?url=https://www.deeplearning.ai/the-batch/agentic-design-patterns-part-5-multi-agent-collaboration/)\n",
      "  * [](https://www.facebook.com/sharer/sharer.php?u=https://www.deeplearning.ai/the-batch/agentic-design-patterns-part-5-multi-agent-collaboration/)\n",
      "  * [](https://www.linkedin.com/shareArticle?mini=true&url=https://www.deeplearning.ai/the-batch/agentic-design-patterns-part-5-multi-agent-collaboration/)\n",
      "\n",
      "Dear friends,\n",
      "\n",
      "Multi-agent collaboration is the last of the four [key AI agentic design\n",
      "patterns](https://www.deeplearning.ai/the-batch/how-agents-can-improve-llm-\n",
      "performance/?utm_campaign=The%20Batch&utm_source=hs_email&utm_medium=email&_hsenc=p2ANqtz-8TZzur2df1qdnGx09b-Fg94DTsc3-xXao4StKvKNU2HR51el3n8yOm0CPSw6GiAoLQNKua)\n",
      "that I’ve described in recent letters. Given a complex task like writing\n",
      "software, a multi-agent approach would break down the task into subtasks to be\n",
      "executed by different roles — such as a software engineer, product manager,\n",
      "designer, QA (quality assurance) engineer, and so on — and have different\n",
      "agents accomplish different subtasks.  \n",
      "  \n",
      "Different agents might be built by prompting one LLM (or, if you prefer,\n",
      "multiple LLMs) to carry out different tasks. For example, to build a software\n",
      "engineer agent, we might prompt the LLM: “You are an expert in writing clear,\n",
      "efficient code. Write code to perform the task . . ..”\n",
      "\n",
      "It might seem counterintuitive that, although we are making multiple calls to\n",
      "the same LLM, we apply the programming abstraction of using multiple agents.\n",
      "I’d like to offer a few reasons:\n",
      "\n",
      "  * It works! Many teams are getting good results with this method, and there’s nothing like results! Further, ablation studies (for example, in the AutoGen paper cited below) show that multiple agents give superior performance to a single agent. \n",
      "  * Even though some LLMs today can accept very long input contexts (for instance, Gemini 1.5 Pro accepts 1 million tokens), their ability to truly understand long, complex inputs is mixed. An agentic workflow in which the LLM is prompted to focus on one thing at a time can give better performance. By telling it when it should play software engineer, we can also specify what is important in that role’s subtask. For example, the prompt above emphasized clear, efficient code as opposed to, say, scalable and highly secure code. By decomposing the overall task into subtasks, we can optimize the subtasks better.\n",
      "  * Perhaps most important, the multi-agent design pattern gives us, as developers, a framework for breaking down complex tasks into subtasks. When writing code to run on a single CPU, we often break our program up into different processes or threads. This is a useful abstraction that lets us decompose a task, like implementing a web browser, into subtasks that are easier to code. I find thinking through multi-agent roles to be a useful abstraction as well.\n",
      "\n",
      "In many companies, managers routinely decide what roles to hire, and then how\n",
      "to split complex projects — like writing a large piece of software or\n",
      "preparing a research report — into smaller tasks to assign to employees with\n",
      "different specialties. Using multiple agents is analogous. Each agent\n",
      "implements its own workflow, has its own memory (itself a rapidly evolving\n",
      "area in agentic technology: how can an agent remember enough of its past\n",
      "interactions to perform better on upcoming ones?), and may ask other agents\n",
      "for help. Agents can also engage in Planning and Tool Use. This results in a\n",
      "cacophony of LLM calls and message passing between agents that can result in\n",
      "very complex workflows.\n",
      "\n",
      "While managing people is hard, it's a sufficiently familiar idea that it gives\n",
      "us a mental framework for how to \"hire\" and assign tasks to our AI agents.\n",
      "Fortunately, the damage from mismanaging an AI agent is much lower than that\n",
      "from mismanaging humans!\n",
      "\n",
      "Emerging frameworks like AutoGen, Crew AI, and LangGraph, provide rich ways to\n",
      "build multi-agent solutions to problems. If you're interested in playing with\n",
      "a fun multi-agent system, also check out ChatDev, an open source\n",
      "implementation of a set of agents that run a virtual software company. I\n",
      "encourage you to check out their [GitHub\n",
      "repo](https://github.com/OpenBMB/ChatDev?utm_campaign=The%20Batch&utm_source=hs_email&utm_medium=email&_hsenc=p2ANqtz-8TZzur2df1qdnGx09b-Fg94DTsc3-xXao4StKvKNU2HR51el3n8yOm0CPSw6GiAoLQNKua)\n",
      "and perhaps clone the repo and run the system yourself. While it may not\n",
      "always produce what you want, you might be amazed at how well it does.\n",
      "\n",
      "Like the design pattern of [Planning](https://www.deeplearning.ai/the-\n",
      "batch/agentic-design-patterns-\n",
      "part-4-planning/?utm_campaign=The%20Batch&utm_source=hs_email&utm_medium=email&_hsenc=p2ANqtz-8TZzur2df1qdnGx09b-Fg94DTsc3-xXao4StKvKNU2HR51el3n8yOm0CPSw6GiAoLQNKua),\n",
      "I find the output quality of multi-agent collaboration hard to predict,\n",
      "especially when allowing agents to interact freely and providing them with\n",
      "multiple tools. The more mature patterns of\n",
      "[Reflection](https://www.deeplearning.ai/the-batch/agentic-design-patterns-\n",
      "part-2-reflection/?utm_campaign=The%20Batch&utm_source=hs_email&utm_medium=email&_hsenc=p2ANqtz-8TZzur2df1qdnGx09b-Fg94DTsc3-xXao4StKvKNU2HR51el3n8yOm0CPSw6GiAoLQNKua)\n",
      "and [Tool Use](https://www.deeplearning.ai/the-batch/agentic-design-patterns-\n",
      "part-3-tool-\n",
      "use/?utm_campaign=The%20Batch&utm_source=hs_email&utm_medium=email&_hsenc=p2ANqtz-8TZzur2df1qdnGx09b-Fg94DTsc3-xXao4StKvKNU2HR51el3n8yOm0CPSw6GiAoLQNKua)\n",
      "are more reliable. I hope you enjoy playing with these agentic design patterns\n",
      "and that they produce amazing results for you!\n",
      "\n",
      "If you're interested in learning more, I recommend:\n",
      "\n",
      "  * “[Communicative Agents for Software Development](https://arxiv.org/abs/2307.07924?utm_campaign=The%20Batch&utm_source=hs_email&utm_medium=email&_hsenc=p2ANqtz-8TZzur2df1qdnGx09b-Fg94DTsc3-xXao4StKvKNU2HR51el3n8yOm0CPSw6GiAoLQNKua),” Qian et al. (2023) (the ChatDev paper)\n",
      "  * “[AutoGen: Enabling Next-Gen LLM Applications via Multi-Agent Conversation](https://arxiv.org/abs/2308.08155?utm_campaign=The%20Batch&utm_source=hs_email&utm_medium=email&_hsenc=p2ANqtz-8TZzur2df1qdnGx09b-Fg94DTsc3-xXao4StKvKNU2HR51el3n8yOm0CPSw6GiAoLQNKua),” Wu et al. (2023) \n",
      "  * “[MetaGPT: Meta Programming for a Multi-Agent Collaborative Framework](https://arxiv.org/abs/2308.00352?utm_campaign=The%20Batch&utm_source=hs_email&utm_medium=email&_hsenc=p2ANqtz-8TZzur2df1qdnGx09b-Fg94DTsc3-xXao4StKvKNU2HR51el3n8yOm0CPSw6GiAoLQNKua),” Hong et al. (2023)\n",
      "\n",
      "Keep learning!\n",
      "\n",
      "Andrew\n",
      "\n",
      "[Read \"Agentic Design Patterns Part 1: Four AI agent strategies that improve\n",
      "GPT-4 and GPT-3.5 performance\"](https://www.deeplearning.ai/the-batch/how-\n",
      "agents-can-improve-llm-performance/?ref=dl-staging-website.ghost.io)\n",
      "\n",
      "[Read \"Agentic Design Patterns Part 2:\n",
      "Reflection\"](https://www.deeplearning.ai/the-batch/agentic-design-patterns-\n",
      "part-2-reflection/?ref=dl-staging-website.ghost.io)\n",
      "\n",
      "[Read \"Agentic Design Patterns Part 3: Tool\n",
      "Use\"](https://www.deeplearning.ai/the-batch/agentic-design-patterns-\n",
      "part-3-tool-use/?ref=dl-staging-website.ghost.io)\n",
      "\n",
      "[Read \"Agentic Design Patterns Part 4:\n",
      "Planning\"](https://www.deeplearning.ai/the-batch/agentic-design-patterns-\n",
      "part-4-planning/?ref=dl-staging-website.ghost.io)\n",
      "\n",
      "![AI is the new electricity. \n",
      "\n",
      "Content: [Proposed\n",
      "ChatDev architecture, illustrated.](/_next/image/?url=https%3A%2F%2Fdl-\n",
      "staging-website.ghost.io%2Fcontent%2Fimages%2F2024%2F04%2Funnamed---\n",
      "2024-04-17T155856.845-2.png&w=3840&q=75)\n",
      "\n",
      "Share\n",
      "\n",
      "  * [](https://twitter.com/intent/tweet?url=https://www.deeplearning.ai/the-batch/agentic-design-patterns-part-5-multi-agent-collaboration/)\n",
      "  * [](https://www.facebook.com/sharer/sharer.php?u=https://www.deeplearning.ai/the-batch/agentic-design-patterns-part-5-multi-agent-collaboration/)\n",
      "  * [](https://www.linkedin.com/shareArticle?mini=true&url=https://www.deeplearning.ai/the-batch/agentic-design-patterns-part-5-multi-agent-collaboration/)\n",
      "\n",
      "Dear friends,\n",
      "\n",
      "Multi-agent collaboration is the last of the four [key AI agentic design\n",
      "patterns](https://www.deeplearning.ai/the-batch/how-agents-can-improve-llm-\n",
      "performance/?utm_campaign=The%20Batch&utm_source=hs_email&utm_medium=email&_hsenc=p2ANqtz-8TZzur2df1qdnGx09b-Fg94DTsc3-xXao4StKvKNU2HR51el3n8yOm0CPSw6GiAoLQNKua)\n",
      "that I’ve described in recent letters. Given a complex task like writing\n",
      "software, a multi-agent approach would break down the task into subtasks to be\n",
      "executed by different roles — such as a software engineer, product manager,\n",
      "designer, QA (quality assurance) engineer, and so on — and have different\n",
      "agents accomplish different subtasks.  \n",
      "  \n",
      "Different agents might be built by prompting one LLM (or, if you prefer,\n",
      "multiple LLMs) to carry out different tasks. For example, to build a software\n",
      "engineer agent, we might prompt the LLM: “You are an expert in writing clear,\n",
      "efficient code. Write code to perform the task . . ..”\n",
      "\n",
      "It might seem counterintuitive that, although we are making multiple calls to\n",
      "the same LLM, we apply the programming abstraction of using multiple agents.\n",
      "I’d like to offer a few reasons:\n",
      "\n",
      "  * It works! Many teams are getting good results with this method, and there’s nothing like results! Further, ablation studies (for example, in the AutoGen paper cited below) show that multiple agents give superior performance to a single agent. \n",
      "  * Even though some LLMs today can accept very long input contexts (for instance, Gemini 1.5 Pro accepts 1 million tokens), their ability to truly understand long, complex inputs is mixed. An agentic workflow in which the LLM is prompted to focus on one thing at a time can give better performance. By telling it when it should play software engineer, we can also specify what is important in that role’s subtask. For example, the prompt above emphasized clear, efficient code as opposed to, say, scalable and highly secure code. By decomposing the overall task into subtasks, we can optimize the subtasks better.\n",
      "  * Perhaps most important, the multi-agent design pattern gives us, as developers, a framework for breaking down complex tasks into subtasks. When writing code to run on a single CPU, we often break our program up into different processes or threads. This is a useful abstraction that lets us decompose a task, like implementing a web browser, into subtasks that are easier to code. I find thinking through multi-agent roles to be a useful abstraction as well.\n",
      "\n",
      "In many companies, managers routinely decide what roles to hire, and then how\n",
      "to split complex projects — like writing a large piece of software or\n",
      "preparing a research report — into smaller tasks to assign to employees with\n",
      "different specialties. Using multiple agents is analogous. Each agent\n",
      "implements its own workflow, has its own memory (itself a rapidly evolving\n",
      "area in agentic technology: how can an agent remember enough of its past\n",
      "interactions to perform better on upcoming ones?), and may ask other agents\n",
      "for help. Agents can also engage in Planning and Tool Use. This results in a\n",
      "cacophony of LLM calls and message passing between agents that can result in\n",
      "very complex workflows.\n",
      "\n",
      "While managing people is hard, it's a sufficiently familiar idea that it gives\n",
      "us a mental framework for how to \"hire\" and assign tasks to our AI agents.\n",
      "Fortunately, the damage from mismanaging an AI agent is much lower than that\n",
      "from mismanaging humans!\n",
      "\n",
      "Emerging frameworks like AutoGen, Crew AI, and LangGraph, provide rich ways to\n",
      "build multi-agent solutions to problems. If you're interested in playing with\n",
      "a fun multi-agent system, also check out ChatDev, an open source\n",
      "implementation of a set of agents that run a virtual software company. I\n",
      "encourage you to check out their [GitHub\n",
      "repo](https://github.com/OpenBMB/ChatDev?utm_campaign=The%20Batch&utm_source=hs_email&utm_medium=email&_hsenc=p2ANqtz-8TZzur2df1qdnGx09b-Fg94DTsc3-xXao4StKvKNU2HR51el3n8yOm0CPSw6GiAoLQNKua)\n",
      "and perhaps clone the repo and run the system yourself. While it may not\n",
      "always produce what you want, you might be amazed at how well it does.\n",
      "\n",
      "Like the design pattern of [Planning](https://www.deeplearning.ai/the-\n",
      "batch/agentic-design-patterns-\n",
      "part-4-planning/?utm_campaign=The%20Batch&utm_source=hs_email&utm_medium=email&_hsenc=p2ANqtz-8TZzur2df1qdnGx09b-Fg94DTsc3-xXao4StKvKNU2HR51el3n8yOm0CPSw6GiAoLQNKua),\n",
      "I find the output quality of multi-agent collaboration hard to predict,\n",
      "especially when allowing agents to interact freely and providing them with\n",
      "multiple tools. The more mature patterns of\n",
      "[Reflection](https://www.deeplearning.ai/the-batch/agentic-design-patterns-\n",
      "part-2-reflection/?utm_campaign=The%20Batch&utm_source=hs_email&utm_medium=email&_hsenc=p2ANqtz-8TZzur2df1qdnGx09b-Fg94DTsc3-xXao4StKvKNU2HR51el3n8yOm0CPSw6GiAoLQNKua)\n",
      "and [Tool Use](https://www.deeplearning.ai/the-batch/agentic-design-patterns-\n",
      "part-3-tool-\n",
      "use/?utm_campaign=The%20Batch&utm_source=hs_email&utm_medium=email&_hsenc=p2ANqtz-8TZzur2df1qdnGx09b-Fg94DTsc3-xXao4StKvKNU2HR51el3n8yOm0CPSw6GiAoLQNKua)\n",
      "are more reliable. I hope you enjoy playing with these agentic design patterns\n",
      "and that they produce amazing results for you!\n",
      "\n",
      "If you're interested in learning more, I recommend:\n",
      "\n",
      "  * “[Communicative Agents for Software Development](https://arxiv.org/abs/2307.07924?utm_campaign=The%20Batch&utm_source=hs_email&utm_medium=email&_hsenc=p2ANqtz-8TZzur2df1qdnGx09b-Fg94DTsc3-xXao4StKvKNU2HR51el3n8yOm0CPSw6GiAoLQNKua),” Qian et al. (2023) (the ChatDev paper)\n",
      "  * “[AutoGen: Enabling Next-Gen LLM Applications via Multi-Agent Conversation](https://arxiv.org/abs/2308.08155?utm_campaign=The%20Batch&utm_source=hs_email&utm_medium=email&_hsenc=p2ANqtz-8TZzur2df1qdnGx09b-Fg94DTsc3-xXao4StKvKNU2HR51el3n8yOm0CPSw6GiAoLQNKua),” Wu et al. (2023) \n",
      "  * “[MetaGPT: Meta Programming for a Multi-Agent Collaborative Framework](https://arxiv.org/abs/2308.00352?utm_campaign=The%20Batch&utm_source=hs_email&utm_medium=email&_hsenc=p2ANqtz-8TZzur2df1qdnGx09b-Fg94DTsc3-xXao4StKvKNU2HR51el3n8yOm0CPSw6GiAoLQNKua),” Hong et al. (2023)\n",
      "\n",
      "Keep learning!\n",
      "\n",
      "Andrew\n",
      "\n",
      "[Read \"Agentic Design Patterns Part 1: Four AI agent strategies that improve\n",
      "GPT-4 and GPT-3.5 performance\"](https://www.deeplearning.ai/the-batch/how-\n",
      "agents-can-improve-llm-performance/?ref=dl-staging-website.ghost.io)\n",
      "\n",
      "[Read \"Agentic Design Patterns Part 2:\n",
      "Reflection\"](https://www.deeplearning.ai/the-batch/agentic-design-patterns-\n",
      "part-2-reflection/?ref=dl-staging-website.ghost.io)\n",
      "\n",
      "[Read \"Agentic Design Patterns Part 3: Tool\n",
      "Use\"](https://www.deeplearning.ai/the-batch/agentic-design-patterns-\n",
      "part-3-tool-use/?ref=dl-staging-website.ghost.io)\n",
      "\n",
      "[Read \"Agentic Design Patterns Part 4:\n",
      "Planning\"](https://www.deeplearning.ai/the-batch/agentic-design-patterns-\n",
      "part-4-planning/?ref=dl-staging-website.ghost.io)\n",
      "\n",
      "![AI is the new electricity. \n",
      "\n",
      "Embedding: None\n"
     ]
    }
   ],
   "source": [
    "print(f\"Text: {docs[0].text}\\n\\nContent: {docs[0].get_content()}\\n\\nEmbedding: {docs[0].embedding}\")"
   ]
  },
  {
   "cell_type": "markdown",
   "metadata": {},
   "source": [
    "### Check document relevancy"
   ]
  },
  {
   "cell_type": "code",
   "execution_count": 19,
   "metadata": {},
   "outputs": [],
   "source": [
    "\n",
    "from pydantic import BaseModel, Field\n",
    "from llama_index.llms.openai import OpenAI\n",
    "from llama_index.core import ChatPromptTemplate\n",
    "\n",
    "class GradeDocuments(BaseModel):\n",
    "    binary_score: str = Field(\n",
    "        description=\"Whether the document is relevant to the question\"\n",
    "        )\n",
    "\n",
    "llm = OpenAI(model=\"gpt-4o-mini\")\n",
    "retrieval_grader = llm.as_structured_llm(GradeDocuments)\n",
    "\n",
    "# Prompt\n",
    "system = \"\"\"You are a grader assessing relevance of a retrieved document to a user question. \\n \n",
    "    If the document contains keyword(s) or semantic meaning related to the user question, grade it as relevant. \\n\n",
    "    It does not need to be a stringent test. The goal is to filter out erroneous retrievals. \\n\n",
    "    Give a binary score 'yes' or 'no' score to indicate whether the document is relevant to the question.\"\"\"\n",
    "grade_prompt = ChatPromptTemplate.from_messages(\n",
    "    [\n",
    "        (\"system\", system),\n",
    "        (\"user\", \"Retrieved document: \\n\\n {document} \\n\\n User question: {question}\"),\n",
    "    ]\n",
    ")\n"
   ]
  },
  {
   "cell_type": "code",
   "execution_count": 28,
   "metadata": {},
   "outputs": [
    {
     "name": "stdout",
     "output_type": "stream",
     "text": [
      "[Proposed\n",
      "ChatDev architecture, illustrated.](/_next/image/?url=https%3A%2F%2Fdl-\n",
      "staging-website.ghost.io%2Fcontent%2Fimages%2F2024%2F04%2Funnamed---\n",
      "2024-04-17T155856.845-2.png&w=3840&q=75)\n",
      "\n",
      "Share\n",
      "\n",
      "  * [](https://twitter.com/intent/tweet?url=https://www.deeplearning.ai/the-batch/agentic-design-patterns-part-5-multi-agent-collaboration/)\n",
      "  * [](https://www.facebook.com/sharer/sharer.php?u=https://www.deeplearning.ai/the-batch/agentic-design-patterns-part-5-multi-agent-collaboration/)\n",
      "  * [](https://www.linkedin.com/shareArticle?mini=true&url=https://www.deeplearning.ai/the-batch/agentic-design-patterns-part-5-multi-agent-collaboration/)\n",
      "\n",
      "Dear friends,\n",
      "\n",
      "Multi-agent collaboration is the last of the four [key AI agentic design\n",
      "patterns](https://www.deeplearning.ai/the-batch/how-agents-can-improve-llm-\n",
      "performance/?utm_campaign=The%20Batch&utm_source=hs_email&utm_medium=email&_hsenc=p2ANqtz-8TZzur2df1qdnGx09b-Fg94DTsc3-xXao4StKvKNU2HR51el3n8yOm0CPSw6GiAoLQNKua)\n",
      "that I’ve described in recent letters. Given a complex task like writing\n",
      "software, a multi-agent approach would break down the task into subtasks to be\n",
      "executed by different roles — such as a software engineer, product manager,\n",
      "designer, QA (quality assurance) engineer, and so on — and have different\n",
      "agents accomplish different subtasks.  \n",
      "  \n",
      "Different agents might be built by prompting one LLM (or, if you prefer,\n",
      "multiple LLMs) to carry out different tasks. For example, to build a software\n",
      "engineer agent, we might prompt the LLM: “You are an expert in writing clear,\n",
      "efficient code. Write code to perform the task . . ..”\n",
      "\n",
      "It might seem counterintuitive that, although we are making multiple calls to\n",
      "the same LLM, we apply the programming abstraction of using multiple agents.\n",
      "I’d like to offer a few reasons:\n",
      "\n",
      "  * It works! Many teams are getting good results with this method, and there’s nothing like results! Further, ablation studies (for example, in the AutoGen paper cited below) show that multiple agents give superior performance to a single agent. \n",
      "  * Even though some LLMs today can accept very long input contexts (for instance, Gemini 1.5 Pro accepts 1 million tokens), their ability to truly understand long, complex inputs is mixed. An agentic workflow in which the LLM is prompted to focus on one thing at a time can give better performance. By telling it when it should play software engineer, we can also specify what is important in that role’s subtask. For example, the prompt above emphasized clear, efficient code as opposed to, say, scalable and highly secure code. By decomposing the overall task into subtasks, we can optimize the subtasks better.\n",
      "  * Perhaps most important, the multi-agent design pattern gives us, as developers, a framework for breaking down complex tasks into subtasks. When writing code to run on a single CPU, we often break our program up into different processes or threads. This is a useful abstraction that lets us decompose a task, like implementing a web browser, into subtasks that are easier to code. I find thinking through multi-agent roles to be a useful abstraction as well.\n",
      "\n",
      "In many companies, managers routinely decide what roles to hire, and then how\n",
      "to split complex projects — like writing a large piece of software or\n",
      "preparing a research report — into smaller tasks to assign to employees with\n",
      "different specialties. Using multiple agents is analogous. Each agent\n",
      "implements its own workflow, has its own memory (itself a rapidly evolving\n",
      "area in agentic technology: how can an agent remember enough of its past\n",
      "interactions to perform better on upcoming ones?), and may ask other agents\n",
      "for help. Agents can also engage in Planning and Tool Use. This results in a\n",
      "cacophony of LLM calls and message passing between agents that can result in\n",
      "very complex workflows.\n",
      "\n",
      "While managing people is hard, it's a sufficiently familiar idea that it gives\n",
      "us a mental framework for how to \"hire\" and assign tasks to our AI agents.\n",
      "Fortunately, the damage from mismanaging an AI agent is much lower than that\n",
      "from mismanaging humans!\n",
      "\n",
      "Emerging frameworks like AutoGen, Crew AI, and LangGraph, provide rich ways to\n",
      "build multi-agent solutions to problems. If you're interested in playing with\n",
      "a fun multi-agent system, also check out ChatDev, an open source\n",
      "implementation of a set of agents that run a virtual software company. I\n",
      "encourage you to check out their [GitHub\n",
      "repo](https://github.com/OpenBMB/ChatDev?utm_campaign=The%20Batch&utm_source=hs_email&utm_medium=email&_hsenc=p2ANqtz-8TZzur2df1qdnGx09b-Fg94DTsc3-xXao4StKvKNU2HR51el3n8yOm0CPSw6GiAoLQNKua)\n",
      "and perhaps clone the repo and run the system yourself. While it may not\n",
      "always produce what you want, you might be amazed at how well it does.\n",
      "\n",
      "Like the design pattern of [Planning](https://www.deeplearning.ai/the-\n",
      "batch/agentic-design-patterns-\n",
      "part-4-planning/?utm_campaign=The%20Batch&utm_source=hs_email&utm_medium=email&_hsenc=p2ANqtz-8TZzur2df1qdnGx09b-Fg94DTsc3-xXao4StKvKNU2HR51el3n8yOm0CPSw6GiAoLQNKua),\n",
      "I find the output quality of multi-agent collaboration hard to predict,\n",
      "especially when allowing agents to interact freely and providing them with\n",
      "multiple tools. The more mature patterns of\n",
      "[Reflection](https://www.deeplearning.ai/the-batch/agentic-design-patterns-\n",
      "part-2-reflection/?utm_campaign=The%20Batch&utm_source=hs_email&utm_medium=email&_hsenc=p2ANqtz-8TZzur2df1qdnGx09b-Fg94DTsc3-xXao4StKvKNU2HR51el3n8yOm0CPSw6GiAoLQNKua)\n",
      "and [Tool Use](https://www.deeplearning.ai/the-batch/agentic-design-patterns-\n",
      "part-3-tool-\n",
      "use/?utm_campaign=The%20Batch&utm_source=hs_email&utm_medium=email&_hsenc=p2ANqtz-8TZzur2df1qdnGx09b-Fg94DTsc3-xXao4StKvKNU2HR51el3n8yOm0CPSw6GiAoLQNKua)\n",
      "are more reliable. I hope you enjoy playing with these agentic design patterns\n",
      "and that they produce amazing results for you!\n",
      "\n",
      "If you're interested in learning more, I recommend:\n",
      "\n",
      "  * “[Communicative Agents for Software Development](https://arxiv.org/abs/2307.07924?utm_campaign=The%20Batch&utm_source=hs_email&utm_medium=email&_hsenc=p2ANqtz-8TZzur2df1qdnGx09b-Fg94DTsc3-xXao4StKvKNU2HR51el3n8yOm0CPSw6GiAoLQNKua),” Qian et al. (2023) (the ChatDev paper)\n",
      "  * “[AutoGen: Enabling Next-Gen LLM Applications via Multi-Agent Conversation](https://arxiv.org/abs/2308.08155?utm_campaign=The%20Batch&utm_source=hs_email&utm_medium=email&_hsenc=p2ANqtz-8TZzur2df1qdnGx09b-Fg94DTsc3-xXao4StKvKNU2HR51el3n8yOm0CPSw6GiAoLQNKua),” Wu et al. (2023) \n",
      "  * “[MetaGPT: Meta Programming for a Multi-Agent Collaborative Framework](https://arxiv.org/abs/2308.00352?utm_campaign=The%20Batch&utm_source=hs_email&utm_medium=email&_hsenc=p2ANqtz-8TZzur2df1qdnGx09b-Fg94DTsc3-xXao4StKvKNU2HR51el3n8yOm0CPSw6GiAoLQNKua),” Hong et al. (2023)\n",
      "\n",
      "Keep learning!\n",
      "\n",
      "Andrew\n",
      "\n",
      "[Read \"Agentic Design Patterns Part 1: Four AI agent strategies that improve\n",
      "GPT-4 and GPT-3.5 performance\"](https://www.deeplearning.ai/the-batch/how-\n",
      "agents-can-improve-llm-performance/?ref=dl-staging-website.ghost.io)\n",
      "\n",
      "[Read \"Agentic Design Patterns Part 2:\n",
      "Reflection\"](https://www.deeplearning.ai/the-batch/agentic-design-patterns-\n",
      "part-2-reflection/?ref=dl-staging-website.ghost.io)\n",
      "\n",
      "[Read \"Agentic Design Patterns Part 3: Tool\n",
      "Use\"](https://www.deeplearning.ai/the-batch/agentic-design-patterns-\n",
      "part-3-tool-use/?ref=dl-staging-website.ghost.io)\n",
      "\n",
      "[Read \"Agentic Design Patterns Part 4:\n",
      "Planning\"](https://www.deeplearning.ai/the-batch/agentic-design-patterns-\n",
      "part-4-planning/?ref=dl-staging-website.ghost.io)\n",
      "\n",
      "![AI is the new electricity.  \n",
      " --------------------------------------------------\n",
      "assistant: {\"binary_score\":\"yes\"} \n",
      "\n",
      "Keep learning!\n",
      "\n",
      "Andrew\n",
      "\n",
      "[Read \"Agentic Design Patterns Part 1: Four AI agent strategies that improve\n",
      "GPT-4 and GPT-3.5 performance\"](https://www.deeplearning.ai/the-batch/how-\n",
      "agents-can-improve-llm-performance/?ref=dl-staging-website.ghost.io)\n",
      "\n",
      "[Read \"Agentic Design Patterns Part 3, Tool\n",
      "Use\"](https://www.deeplearning.ai/the-batch/agentic-design-patterns-\n",
      "part-3-tool-use/?ref=dl-staging-website.ghost.io)\n",
      "\n",
      "[Read \"Agentic Design Patterns Part 4:\n",
      "Planning\"](https://www.deeplearning.ai/the-batch/agentic-design-patterns-\n",
      "part-4-planning/?ref=dl-staging-website.ghost.io)\n",
      "\n",
      "[Read \"Agentic Design Patterns Part 5: Multi-Agent\n",
      "Collaboration\"](https://www.deeplearning.ai/the-batch/agentic-design-patterns-\n",
      "part-5-multi-agent-collaboration/?ref=dl-staging-website.ghost.io)\n",
      "\n",
      "![](data:image/gif;base64,R0lGODlhAQABAIAAAAAAAP///yH5BAEAAAAALAAAAAABAAEAAAIBRAA7)![](/_next/image/?url=https%3A%2F%2Fwordpress.deeplearning.ai%2Fwp-\n",
      "content%2Fuploads%2F2023%2F05%2Fcgpt-2.png&w=3840&q=75)[](https://www.deeplearning.ai/short-\n",
      "courses/chatgpt-prompt-engineering-for-developers/)\n",
      "\n",
      "Share\n",
      "\n",
      "  * [](https://twitter.com/intent/tweet?url=https://www.deeplearning.ai/the-batch/agentic-design-patterns-part-2-reflection/)\n",
      "  * [](https://www.facebook.com/sharer/sharer.php?u=https://www.deeplearning.ai/the-batch/agentic-design-patterns-part-2-reflection/)\n",
      "  * [](https://www.linkedin.com/shareArticle?mini=true&url=https://www.deeplearning.ai/the-batch/agentic-design-patterns-part-2-reflection/)\n",
      "\n",
      "## Subscribe to The Batch\n",
      "\n",
      "Stay updated with weekly AI News and Insights delivered to your inbox\n",
      "\n",
      "  * [Courses](/courses/)\n",
      "  * [The Batch](/the-batch/)\n",
      "  * [Community](/community/)\n",
      "  * [Careers](/careers/)\n",
      "  * [About](/about/)\n",
      "\n",
      "[](https://www.facebook.com/1027125564106325)[](https://www.instagram.com/deeplearningai)[](http://twitter.com/deeplearningai)[](https://www.linkedin.com/company/18246783)[](https://www.youtube.com/c/Deeplearningai)\n",
      "\n",
      " \n",
      " --------------------------------------------------\n",
      "assistant: {\"binary_score\":\"yes\"} \n",
      "\n"
     ]
    }
   ],
   "source": [
    "docs_to_use = []\n",
    "# get actual object\n",
    "for doc in docs:\n",
    "    print(doc.get_text(), '\\n', '-'*50)\n",
    "    res = retrieval_grader.chat(grade_prompt.format_messages(question=question, document=doc.get_text()))\n",
    "    print(res,'\\n')\n",
    "    if res.raw.binary_score == 'yes':\n",
    "        docs_to_use.append(doc)"
   ]
  },
  {
   "cell_type": "markdown",
   "metadata": {},
   "source": [
    "### Generate result"
   ]
  },
  {
   "cell_type": "code",
   "execution_count": 31,
   "metadata": {},
   "outputs": [
    {
     "name": "stdout",
     "output_type": "stream",
     "text": [
      "assistant: The different kinds of agentic design patterns include four key strategies: Reflection, Tool Use, Planning, and Multi-Agent Collaboration. Reflection involves agents assessing their own performance and adjusting accordingly. Tool Use allows agents to utilize external tools to enhance their capabilities. Planning focuses on agents organizing tasks and workflows effectively. Multi-Agent Collaboration breaks down complex tasks into subtasks handled by different agents, optimizing performance through specialization.\n"
     ]
    }
   ],
   "source": [
    "# Prompt\n",
    "system = \"\"\"You are an assistant for question-answering tasks. Answer the question based upon your knowledge. \n",
    "Use three-to-five sentences maximum and keep the answer concise.\"\"\"\n",
    "prompt = ChatPromptTemplate.from_messages(\n",
    "    [\n",
    "        (\"system\", system),\n",
    "        (\"user\", \"Retrieved documents: \\n\\n <docs>{documents}</docs> \\n\\n User question: <question>{question}</question>\"),\n",
    "    ]\n",
    ")\n",
    "\n",
    "# Post-processing\n",
    "def format_docs(docs):\n",
    "    return \"\\n\".join(f\"<doc{i+1}>:\\nContent:{doc.get_content()}\\n</doc{i+1}>\\n\" for i, doc in enumerate(docs))\n",
    "\n",
    "\n",
    "generation = llm.chat(prompt.format_messages(documents=format_docs(docs_to_use), question=question))\n",
    "print(generation)"
   ]
  },
  {
   "cell_type": "markdown",
   "metadata": {},
   "source": [
    "### Check for Hallucinations"
   ]
  },
  {
   "cell_type": "code",
   "execution_count": 32,
   "metadata": {},
   "outputs": [
    {
     "name": "stdout",
     "output_type": "stream",
     "text": [
      "assistant: {\"binary_score\":\"yes\"}\n"
     ]
    }
   ],
   "source": [
    "# Data model\n",
    "class GradeHallucinations(BaseModel):\n",
    "    \"\"\"Binary score for hallucination present in 'generation' answer.\"\"\"\n",
    "\n",
    "    binary_score: str = Field(\n",
    "        description=\"Answer is grounded in the facts, 'yes' or 'no'\"\n",
    "    )\n",
    "\n",
    "# LLM with function call\n",
    "structured_llm_grader = llm.as_structured_llm(GradeHallucinations)\n",
    "\n",
    "# Prompt\n",
    "system = \"\"\"You are a grader assessing whether an LLM generation is grounded in / supported by a set of retrieved facts. \\n \n",
    "    Give a binary score 'yes' or 'no'. 'Yes' means that the answer is grounded in / supported by the set of facts.\"\"\"\n",
    "hallucination_prompt = ChatPromptTemplate.from_messages(\n",
    "    [\n",
    "        (\"system\", system),\n",
    "        (\"user\", \"Set of facts: \\n\\n <facts>{documents}</facts> \\n\\n LLM generation: <generation>{generation}</generation>\"),\n",
    "    ]\n",
    ")\n",
    "\n",
    "response = structured_llm_grader.chat(hallucination_prompt.format_messages(documents=format_docs(docs_to_use), generation=generation))\n",
    "\n",
    "print(response)"
   ]
  },
  {
   "cell_type": "markdown",
   "metadata": {},
   "source": [
    "From here the original notebook cites sources with another llm layer.\n",
    "\n",
    "The loader I used didn't extract metadata so I'm just going to skip this."
   ]
  }
 ],
 "metadata": {
  "kernelspec": {
   "display_name": "Python 3 (ipykernel)",
   "language": "python",
   "name": "python3"
  },
  "language_info": {
   "codemirror_mode": {
    "name": "ipython",
    "version": 3
   },
   "file_extension": ".py",
   "mimetype": "text/x-python",
   "name": "python",
   "nbconvert_exporter": "python",
   "pygments_lexer": "ipython3",
   "version": "3.11.6"
  }
 },
 "nbformat": 4,
 "nbformat_minor": 2
}
